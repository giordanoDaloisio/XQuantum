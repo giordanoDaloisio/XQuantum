{
 "cells": [
  {
   "cell_type": "code",
   "execution_count": 1,
   "metadata": {},
   "outputs": [],
   "source": [
    "import pandas as pd\n",
    "import os\n",
    "from shutil import copyfile, move\n",
    "from random import randint"
   ]
  },
  {
   "cell_type": "code",
   "execution_count": 2,
   "metadata": {},
   "outputs": [],
   "source": [
    "os.makedirs('evaluation_iterative_new', exist_ok=True)"
   ]
  },
  {
   "cell_type": "code",
   "execution_count": 3,
   "metadata": {},
   "outputs": [],
   "source": [
    "for file in os.listdir('explanation_iterative_new/3_iterations'):\n",
    "    if \"2\" in file and not \"prompt\" in file:\n",
    "        file_name = file.split(\".\")[0]\n",
    "        os.makedirs(f\"evaluation_iterative_new/{file_name}\", exist_ok=True)\n",
    "        copyfile(\n",
    "            f\"explanation_iterative_new/3_iterations/{file}\",\n",
    "            f\"evaluation_iterative_new/{file_name}/{file}\",\n",
    "        )"
   ]
  },
  {
   "cell_type": "code",
   "execution_count": 4,
   "metadata": {},
   "outputs": [],
   "source": [
    "for file in os.listdir(\"explanation_iterative_new/10_iterations\"):\n",
    "    if \"9\" in file and not \"prompt\" in file:\n",
    "        file_name = file.split(\".\")[0]\n",
    "        os.makedirs(f\"evaluation_iterative_new/{file_name}\", exist_ok=True)\n",
    "        copyfile(\n",
    "            f\"explanation_iterative_new/10_iterations/{file}\",\n",
    "            f\"evaluation_iterative_new/{file_name}/{file}\",\n",
    "        )"
   ]
  },
  {
   "cell_type": "code",
   "execution_count": 5,
   "metadata": {},
   "outputs": [],
   "source": [
    "mapping = ['a', 'b']\n",
    "for folder in os.listdir(\"evaluation_iterative_new\"):\n",
    "    for file in os.listdir(f\"evaluation_iterative_new/{folder}\"):\n",
    "        i = randint(0, 1)\n",
    "        if os.path.exists(f\"evaluation_iterative_new/{folder}/{mapping[i]}.txt\"):\n",
    "            i = 1 - i\n",
    "        move(\n",
    "            f\"evaluation_iterative_new/{folder}/{file}\",\n",
    "            f\"evaluation_iterative_new/{folder}/{mapping[i]}.txt\",\n",
    "        )\n",
    "        with open(\"evaluation_iterative_new/mapping.csv\", \"a\", encoding=\"utf-8\") as f:\n",
    "            f.write(f\"{file},{mapping[i]}\\n\")"
   ]
  }
 ],
 "metadata": {
  "kernelspec": {
   "display_name": "xquantum",
   "language": "python",
   "name": "python3"
  },
  "language_info": {
   "codemirror_mode": {
    "name": "ipython",
    "version": 3
   },
   "file_extension": ".py",
   "mimetype": "text/x-python",
   "name": "python",
   "nbconvert_exporter": "python",
   "pygments_lexer": "ipython3",
   "version": "3.10.13"
  }
 },
 "nbformat": 4,
 "nbformat_minor": 2
}
