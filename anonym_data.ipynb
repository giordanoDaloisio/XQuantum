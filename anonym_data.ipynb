{
 "cells": [
  {
   "cell_type": "code",
   "execution_count": 7,
   "metadata": {},
   "outputs": [],
   "source": [
    "import pandas as pd\n",
    "import os\n",
    "from shutil import copyfile\n",
    "from random import randint"
   ]
  },
  {
   "cell_type": "code",
   "execution_count": 2,
   "metadata": {},
   "outputs": [],
   "source": [
    "os.makedirs('evaluation_iterative', exist_ok=True)"
   ]
  },
  {
   "cell_type": "code",
   "execution_count": 4,
   "metadata": {},
   "outputs": [],
   "source": [
    "for file in os.listdir('iterative/3_iterations'):\n",
    "  if \"2\" in file and not 'prompt' in file:\n",
    "    file_name = file.split('.')[0]\n",
    "    os.makedirs(f'evaluation_iterative/{file_name}', exist_ok=True)\n",
    "    copyfile(f'iterative/3_iterations/{file}', f'evaluation_iterative/{file_name}/{file}')"
   ]
  },
  {
   "cell_type": "code",
   "execution_count": 6,
   "metadata": {},
   "outputs": [],
   "source": [
    "for file in os.listdir(\"iterative/10_iterations\"):\n",
    "    if \"9\" in file and not \"prompt\" in file:\n",
    "        file_name = file.split(\".\")[0]\n",
    "        os.makedirs(f\"evaluation_iterative/{file_name}\", exist_ok=True)\n",
    "        copyfile(\n",
    "            f\"iterative/10_iterations/{file}\", f\"evaluation_iterative/{file_name}/{file}\"\n",
    "        )"
   ]
  },
  {
   "cell_type": "code",
   "execution_count": null,
   "metadata": {},
   "outputs": [],
   "source": [
    "mapping = ['a', 'b']"
   ]
  }
 ],
 "metadata": {
  "kernelspec": {
   "display_name": "xquantum",
   "language": "python",
   "name": "python3"
  },
  "language_info": {
   "codemirror_mode": {
    "name": "ipython",
    "version": 3
   },
   "file_extension": ".py",
   "mimetype": "text/x-python",
   "name": "python",
   "nbconvert_exporter": "python",
   "pygments_lexer": "ipython3",
   "version": "3.10.13"
  }
 },
 "nbformat": 4,
 "nbformat_minor": 2
}
