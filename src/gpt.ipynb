{
 "cells": [
  {
   "cell_type": "code",
   "execution_count": 9,
   "metadata": {},
   "outputs": [],
   "source": [
    "import openai\n",
    "import open_ai_key"
   ]
  },
  {
   "cell_type": "code",
   "execution_count": 10,
   "metadata": {},
   "outputs": [],
   "source": [
    "openai.api_key = open_ai_key.api_key\n",
    "model_name = 'gpt-3.5-turbo-16k' \n",
    "temperature = 0.8"
   ]
  },
  {
   "cell_type": "code",
   "execution_count": 11,
   "metadata": {},
   "outputs": [],
   "source": [
    "# Grover's Algorithm\n",
    "\n",
    "code = \"\"\"\n",
    "pi = math.pi\n",
    "q = QuantumRegister(4,'q')\n",
    "c = ClassicalRegister(4,'c')\n",
    "qc = QuantumCircuit(q,c)\n",
    "\n",
    "print('\\nInitialising Circuit...\\n')\n",
    "\n",
    "### Initialisation ###\n",
    "\n",
    "qc.h(q[0])\n",
    "qc.h(q[1])\n",
    "qc.h(q[2])\n",
    "qc.h(q[3])\n",
    "\n",
    "print('\\nPreparing Oracle circuit....\\n')\n",
    "\n",
    "### 0000 Oracle ###\n",
    "\n",
    "qc.x(q[0])\n",
    "qc.x(q[1])\n",
    "qc.x(q[2])\n",
    "qc.x(q[3])\n",
    "\n",
    "qc.cu1(pi/4, q[0], q[3])\n",
    "qc.cx(q[0], q[1])\n",
    "qc.cu1(-pi/4, q[1], q[3])\n",
    "qc.cx(q[0], q[1])\n",
    "qc.cu1(pi/4, q[1], q[3])\n",
    "qc.cx(q[1], q[2])\n",
    "qc.cu1(-pi/4, q[2], q[3])\n",
    "qc.cx(q[0], q[2])\n",
    "qc.cu1(pi/4, q[2], q[3])\n",
    "qc.cx(q[1], q[2])\n",
    "qc.cu1(-pi/4, q[2], q[3])\n",
    "qc.cx(q[0], q[2])\n",
    "qc.cu1(pi/4, q[2], q[3])\n",
    "\n",
    "qc.x(q[0])\n",
    "qc.x(q[1])\n",
    "qc.x(q[2])\n",
    "qc.x(q[3])\n",
    "\"\"\""
   ]
  },
  {
   "cell_type": "code",
   "execution_count": 14,
   "metadata": {},
   "outputs": [],
   "source": [
    "prompt = \"Can you give a high-level explaination of this code?\" + code\n",
    "messages = [{\"role\": \"user\", \"content\": prompt}]\n",
    "\n",
    "response = openai.ChatCompletion.create(model=model, messages=messages, temperature=temperature)\n",
    "\n",
    "content = response['content']"
   ]
  },
  {
   "cell_type": "code",
   "execution_count": 16,
   "metadata": {},
   "outputs": [
    {
     "name": "stdout",
     "output_type": "stream",
     "text": [
      "To understand this piece of code, let's start by defining what a QuantumRegister (QR) and QuantumCircuit (QC) are. A QR is a collection of qubits that can be manipulated in parallel using different gates. It consists of a list of qubit indices (`q`), along with their corresponding gate operations (`c`).\n",
      "\n",
      "In the above code, `q` is an array of four qubits (`q[0]`, `q[1]`, `q[2]`, and `q[3]`). Each gate operation (`c`) is a QC instruction that applies one or more gates to these qubits. The final step in this circuit is the `cu1` operation, which applies a controlled-U gate on qubit `1` (which is at index `0` in the original list) to qubit `3`.\n",
      "\n",
      "To execute the circuit, we first initialize our QR with the desired values for each qubit (`qc.h(q[0])`), then prepare an Oracle circuit (`qc.x(q[0])`, `qc.x(q[1])`, `qc.x(q[2])`, and `qc.x(q[3]))`. Next, we apply the Controlled-U gate to `c`, followed by the final CX gate (`qc.cx(q[0], q[3])`).\n",
      "\n",
      "Finally, we execute this entire circuit using a QuantumRegister, passing in `pi/4` and `pi/4` as arguments to the `cu1()` method. Note that the final step of executing the circuit is the `cx()` operation, which applies a controlled CX gate on qubit `0`, followed by a controlled CX gate on qubit `3`.\n"
     ]
    }
   ],
   "source": [
    "print(content)"
   ]
  }
 ],
 "metadata": {
  "kernelspec": {
   "display_name": "Python 3",
   "language": "python",
   "name": "python3"
  },
  "language_info": {
   "codemirror_mode": {
    "name": "ipython",
    "version": 3
   },
   "file_extension": ".py",
   "mimetype": "text/x-python",
   "name": "python",
   "nbconvert_exporter": "python",
   "pygments_lexer": "ipython3",
   "version": "3.8.8"
  }
 },
 "nbformat": 4,
 "nbformat_minor": 4
}
