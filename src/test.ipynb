{
 "cells": [
  {
   "cell_type": "code",
   "execution_count": 1,
   "metadata": {},
   "outputs": [],
   "source": [
    "import ollama"
   ]
  },
  {
   "cell_type": "code",
   "execution_count": 2,
   "metadata": {},
   "outputs": [
    {
     "data": {
      "text/plain": [
       "{'status': 'success'}"
      ]
     },
     "execution_count": 2,
     "metadata": {},
     "output_type": "execute_result"
    }
   ],
   "source": [
    "ollama.pull(\"tinyllama\")"
   ]
  },
  {
   "cell_type": "code",
   "execution_count": 12,
   "metadata": {},
   "outputs": [],
   "source": [
    "# Grover's Algorithm\n",
    "\n",
    "code = \"\"\"\n",
    "pi = math.pi\n",
    "q = QuantumRegister(4,'q')\n",
    "c = ClassicalRegister(4,'c')\n",
    "qc = QuantumCircuit(q,c)\n",
    "\n",
    "print('\\nInitialising Circuit...\\n')\n",
    "\n",
    "### Initialisation ###\n",
    "\n",
    "qc.h(q[0])\n",
    "qc.h(q[1])\n",
    "qc.h(q[2])\n",
    "qc.h(q[3])\n",
    "\n",
    "print('\\nPreparing Oracle circuit....\\n')\n",
    "\n",
    "### 0000 Oracle ###\n",
    "\n",
    "qc.x(q[0])\n",
    "qc.x(q[1])\n",
    "qc.x(q[2])\n",
    "qc.x(q[3])\n",
    "\n",
    "qc.cu1(pi/4, q[0], q[3])\n",
    "qc.cx(q[0], q[1])\n",
    "qc.cu1(-pi/4, q[1], q[3])\n",
    "qc.cx(q[0], q[1])\n",
    "qc.cu1(pi/4, q[1], q[3])\n",
    "qc.cx(q[1], q[2])\n",
    "qc.cu1(-pi/4, q[2], q[3])\n",
    "qc.cx(q[0], q[2])\n",
    "qc.cu1(pi/4, q[2], q[3])\n",
    "qc.cx(q[1], q[2])\n",
    "qc.cu1(-pi/4, q[2], q[3])\n",
    "qc.cx(q[0], q[2])\n",
    "qc.cu1(pi/4, q[2], q[3])\n",
    "\n",
    "qc.x(q[0])\n",
    "qc.x(q[1])\n",
    "qc.x(q[2])\n",
    "qc.x(q[3])\n",
    "\"\"\""
   ]
  },
  {
   "cell_type": "code",
   "execution_count": 14,
   "metadata": {},
   "outputs": [],
   "source": [
    "response = ollama.chat(model=\"tinyllama\", \n",
    "                       messages=[{'role': 'user', \n",
    "                                  'content': \"Can you give a high-level explaination of this code?\"+code}\n",
    "                                  ])['message']\n",
    "\n",
    "content = response['content']"
   ]
  },
  {
   "cell_type": "code",
   "execution_count": 16,
   "metadata": {},
   "outputs": [
    {
     "name": "stdout",
     "output_type": "stream",
     "text": [
      "To understand this piece of code, let's start by defining what a QuantumRegister (QR) and QuantumCircuit (QC) are. A QR is a collection of qubits that can be manipulated in parallel using different gates. It consists of a list of qubit indices (`q`), along with their corresponding gate operations (`c`).\n",
      "\n",
      "In the above code, `q` is an array of four qubits (`q[0]`, `q[1]`, `q[2]`, and `q[3]`). Each gate operation (`c`) is a QC instruction that applies one or more gates to these qubits. The final step in this circuit is the `cu1` operation, which applies a controlled-U gate on qubit `1` (which is at index `0` in the original list) to qubit `3`.\n",
      "\n",
      "To execute the circuit, we first initialize our QR with the desired values for each qubit (`qc.h(q[0])`), then prepare an Oracle circuit (`qc.x(q[0])`, `qc.x(q[1])`, `qc.x(q[2])`, and `qc.x(q[3]))`. Next, we apply the Controlled-U gate to `c`, followed by the final CX gate (`qc.cx(q[0], q[3])`).\n",
      "\n",
      "Finally, we execute this entire circuit using a QuantumRegister, passing in `pi/4` and `pi/4` as arguments to the `cu1()` method. Note that the final step of executing the circuit is the `cx()` operation, which applies a controlled CX gate on qubit `0`, followed by a controlled CX gate on qubit `3`.\n"
     ]
    }
   ],
   "source": [
    "print(content)"
   ]
  },
  {
   "cell_type": "code",
   "execution_count": 17,
   "metadata": {},
   "outputs": [],
   "source": [
    "response = ollama.chat(model=\"tinyllama\", \n",
    "                       messages=[{'role': 'user', \n",
    "                                  'content': \"Can you explain me the algorithm implemented by this code?\"+code}\n",
    "                                  ])['message']\n",
    "\n",
    "content = response['content']"
   ]
  },
  {
   "cell_type": "code",
   "execution_count": 19,
   "metadata": {},
   "outputs": [
    {
     "name": "stdout",
     "output_type": "stream",
     "text": [
      "The \"Preparing Oracle circuit\" step in the above code prepares an oracle circuit that involves applying two controlled-NOT (CNOT) gates with a phase difference of pi/4 and a phase difference of -pi/4, respectively. This is performed by performing single-qubit rotations on each qubit in the oracle circuit using quantum registers q[0], q[1], q[2], and q[3] to prepare a 0000 state (where the first qubit is controlled by q[0] and all other qubits are measured). This prepares a 0000 state with amplitude 0, which is then multiplied by an amplitude of pi/4 to create a 1101 state. Finally, two CNOT gates with amplitudes of -pi/4 are applied, followed by another CNOT gate with amplitude pi/4 to create a 0010 state, which is the desired output state. The circuit then proceeds through the entire oracle circuit using single-qubit rotations on each qubit in preparation for the final measurement step.\n"
     ]
    }
   ],
   "source": [
    "print(content)"
   ]
  }
 ],
 "metadata": {
  "kernelspec": {
   "display_name": "xquantum",
   "language": "python",
   "name": "python3"
  },
  "language_info": {
   "codemirror_mode": {
    "name": "ipython",
    "version": 3
   },
   "file_extension": ".py",
   "mimetype": "text/x-python",
   "name": "python",
   "nbconvert_exporter": "python",
   "pygments_lexer": "ipython3",
   "version": "3.10.13"
  }
 },
 "nbformat": 4,
 "nbformat_minor": 2
}
