{
 "cells": [
  {
   "cell_type": "code",
   "execution_count": 2,
   "metadata": {},
   "outputs": [],
   "source": [
    "import ollama"
   ]
  },
  {
   "cell_type": "code",
   "execution_count": 3,
   "metadata": {},
   "outputs": [
    {
     "data": {
      "text/plain": [
       "{'status': 'success'}"
      ]
     },
     "execution_count": 3,
     "metadata": {},
     "output_type": "execute_result"
    }
   ],
   "source": [
    "ollama.pull(\"llama2\")\n",
    "ollama.pull(\"tinyllama\")"
   ]
  },
  {
   "cell_type": "code",
   "execution_count": 4,
   "metadata": {},
   "outputs": [],
   "source": [
    "# Grover's Algorithm\n",
    "\n",
    "code = \"\"\"\n",
    "pi = math.pi\n",
    "q = QuantumRegister(4,'q')\n",
    "c = ClassicalRegister(4,'c')\n",
    "qc = QuantumCircuit(q,c)\n",
    "\n",
    "print('\\nInitialising Circuit...\\n')\n",
    "\n",
    "### Initialisation ###\n",
    "\n",
    "qc.h(q[0])\n",
    "qc.h(q[1])\n",
    "qc.h(q[2])\n",
    "qc.h(q[3])\n",
    "\n",
    "print('\\nPreparing Oracle circuit....\\n')\n",
    "\n",
    "### 0000 Oracle ###\n",
    "\n",
    "qc.x(q[0])\n",
    "qc.x(q[1])\n",
    "qc.x(q[2])\n",
    "qc.x(q[3])\n",
    "\n",
    "qc.cu1(pi/4, q[0], q[3])\n",
    "qc.cx(q[0], q[1])\n",
    "qc.cu1(-pi/4, q[1], q[3])\n",
    "qc.cx(q[0], q[1])\n",
    "qc.cu1(pi/4, q[1], q[3])\n",
    "qc.cx(q[1], q[2])\n",
    "qc.cu1(-pi/4, q[2], q[3])\n",
    "qc.cx(q[0], q[2])\n",
    "qc.cu1(pi/4, q[2], q[3])\n",
    "qc.cx(q[1], q[2])\n",
    "qc.cu1(-pi/4, q[2], q[3])\n",
    "qc.cx(q[0], q[2])\n",
    "qc.cu1(pi/4, q[2], q[3])\n",
    "\n",
    "qc.x(q[0])\n",
    "qc.x(q[1])\n",
    "qc.x(q[2])\n",
    "qc.x(q[3])\n",
    "\"\"\""
   ]
  },
  {
   "cell_type": "markdown",
   "metadata": {},
   "source": [
    "## Test with TinyLLAMA "
   ]
  },
  {
   "cell_type": "code",
   "execution_count": 7,
   "metadata": {},
   "outputs": [],
   "source": [
    "response = ollama.chat(model=\"tinyllama\", \n",
    "                       messages=[{'role': 'user', \n",
    "                                  'content': \"Can you give a high-level explaination of this code?\"+code}\n",
    "                                  ])['message']\n",
    "\n",
    "content = response['content']"
   ]
  },
  {
   "cell_type": "code",
   "execution_count": 8,
   "metadata": {},
   "outputs": [
    {
     "name": "stdout",
     "output_type": "stream",
     "text": [
      "Sure! Here's a high-level explanation of the code you provided:\n",
      "\n",
      "1. Initialising Circuit: We begin by initialising a circuit (the `qc` variable) using classical registers (the `c` variable).\n",
      "\n",
      "2. Preparing Oracle Circuit: Next, we prepare an oracle circuit using Hadamard gates (`H()` and `H()`), X gates (`X(q[0])`, `X(q[1])`, `X(q[2]`) and `X(q[3])`). We also add a CNOT gate between the first two qubits (q[0] and q[1]) and the third qubit (q[2]).\n",
      "\n",
      "3. Initialisation: Finally, we initialise qubits using Hadamard gates (`H()`) and X gates (`X(q[i])` for `i=0, 1, 2, 3`). We also apply a CNOT gate between qubits (q[0], q[3]) and qubit (q[1]).\n",
      "\n",
      "4. Preparing Oracle Circuit: We then perform the oracle circuit using Hadamard gates (`H()`) and X gates (`X(q[i])` for `i=0, 1, 2, 3`).\n",
      "\n",
      "5. Finalisation: After completing the circuit, we apply a CNOT gate between qubits (q[0], q[2]) and qubit (q[3]). This finalises the circuit and makes it ready to be implemented in a quantum computer.\n"
     ]
    }
   ],
   "source": [
    "print(content)"
   ]
  },
  {
   "cell_type": "code",
   "execution_count": 9,
   "metadata": {},
   "outputs": [],
   "source": [
    "response = ollama.chat(model=\"tinyllama\", \n",
    "                       messages=[{'role': 'user', \n",
    "                                  'content': \"Can you explain me the algorithm implemented by this code?\"+code}\n",
    "                                  ])['message']\n",
    "\n",
    "content = response['content']"
   ]
  },
  {
   "cell_type": "code",
   "execution_count": 10,
   "metadata": {},
   "outputs": [
    {
     "name": "stdout",
     "output_type": "stream",
     "text": [
      "The \"Preparing Oracle circuit\" is a sequence of quantum operations that prepare the oracle (in this case, a 0-1 quantum register) for use in a subsequent quantum computation. The circuit starts with an X gate on each qubit to create entanglement and then performs a series of CNOT gates between adjacent qubits to establish a connection between them. It then applies the X gate to one qubit, followed by a H gate to flip its state, and finally another X gate on the other qubit. This creates two entangled pairs, one for each qubit, that can be used in subsequent quantum operations. The circuit ends with two CNOT gates back-to-back, followed by a final CZ gate between the last qubit and the first qubit to restore the original state of the first qubit (0 or 1).\n"
     ]
    }
   ],
   "source": [
    "print(content)"
   ]
  },
  {
   "cell_type": "markdown",
   "metadata": {},
   "source": [
    "## Test with LLAMA2"
   ]
  },
  {
   "cell_type": "code",
   "execution_count": 11,
   "metadata": {},
   "outputs": [],
   "source": [
    "response = ollama.chat(model=\"llama2\", \n",
    "                       messages=[{'role': 'user', \n",
    "                                  'content': \"Can you give a high-level explaination of this code?\"+code}\n",
    "                                  ])['message']\n",
    "\n",
    "content = response['content']"
   ]
  },
  {
   "cell_type": "code",
   "execution_count": 12,
   "metadata": {},
   "outputs": [
    {
     "name": "stdout",
     "output_type": "stream",
     "text": [
      "This is a Quantum Circuit (QC) in Q# programming language, which is a high-level language for programming quantum computers developed by Microsoft. The code defines a circuit that prepares an oracle state, which is a special type of quantum state used in quantum algorithms to manipulate the computation based on some classical information.\n",
      "\n",
      "Here's a high-level explanation of the code:\n",
      "\n",
      "1. `pi = math.pi`: This line imports the mathematical constant pi (3.14159...), which is used in the oracle circuit.\n",
      "2. `q = QuantumRegister(4,'q')`: This creates a quantum register with 4 qubits, named \"q\".\n",
      "3. `c = ClassicalRegister(4,'c')`: This creates a classical register with 4 bits, named \"c\".\n",
      "4. `qc = QuantumCircuit(q,c)`: This creates a quantum circuit that uses the \"q\" and \"c\" registers as inputs and produces output states on the \"q\" register.\n",
      "5. `print('Initialising Circuit...')`: This prints a message to indicate that the circuit is being initialized.\n",
      "6. `### Initialisation ###`: This line marks the beginning of the oracle circuit initialization.\n",
      "7. `qc.h(q[0])`: This applies a Hadamard gate to the first qubit of the \"q\" register.\n",
      "8. `qc.h(q[1])`: This applies a Hadamard gate to the second qubit of the \"q\" register.\n",
      "9. `qc.h(q[2])`: This applies a Hadamard gate to the third qubit of the \"q\" register.\n",
      "10. `qc.h(q[3])`: This applies a Hadamard gate to the fourth qubit of the \"q\" register.\n",
      "11. `print('Preparing Oracle circuit....')`: This prints a message to indicate that the oracle circuit is being prepared.\n",
      "12. `### 0000 Oracle ###`: This line marks the beginning of the oracle circuit.\n",
      "13. `qc.x(q[0])`: This applies a phase flip gate to the first qubit of the \"q\" register, which effectively swaps the state of the qubit between |0⟩ and |1⟩.\n",
      "14. `qc.x(q[1])`: This applies a phase flip gate to the second qubit of the \"q\" register.\n",
      "15. `qc.x(q[2])`: This applies a phase flip gate to the third qubit of the \"q\" register.\n",
      "16. `qc.x(q[3])`: This applies a phase flip gate to the fourth qubit of the \"q\" register.\n",
      "17. `qc.cu1(pi/4, q[0], q[3])`: This applies a controlled-NOT gate between the first and third qubits of the \"q\" register, with an angle of pi/4. This is used to manipulate the state of the qubits based on the classical information represented by the angle.\n",
      "18. `qc.cx(q[0], q[1])`: This applies a controlled-NOT gate between the first and second qubits of the \"q\" register.\n",
      "19. `qc.cu1(-pi/4, q[1], q[3])`: This applies a controlled-NOT gate between the second and third qubits of the \"q\" register, with an angle of -pi/4.\n",
      "20. `qc.cx(q[0], q[1])`: This applies a controlled-NOT gate between the first and second qubits of the \"q\" register.\n",
      "21. `qc.cu1(pi/4, q[1], q[3])`: This applies a controlled-NOT gate between the second and third qubits of the \"q\" register, with an angle of pi/4.\n",
      "22. `qc.cx(q[0], q[2])`: This applies a controlled-NOT gate between the first and second qubits of the \"q\" register.\n",
      "23. `qc.cu1(-pi/4, q[2], q[3])`: This applies a controlled-NOT gate between the second and third qubits of the \"q\" register, with an angle of -pi/4.\n",
      "24. `qc.cx(q[0], q[2])`: This applies a controlled-NOT gate between the first and second qubits of the \"q\" register.\n",
      "25. `qc.cu1(pi/4, q[2], q[3])`: This applies a controlled-NOT gate between the second and third qubits of the \"q\" register, with an angle of pi/4.\n",
      "26. `qc.x(q[0])`: This applies a phase flip gate to the first qubit of the \"q\" register.\n",
      "27. `qc.x(q[1])`: This applies a phase flip gate to the second qubit of the \"q\" register.\n",
      "28. `qc.x(q[2])`: This applies a phase flip gate to the third qubit of the \"q\" register.\n",
      "29. `qc.x(q[3])`: This applies a phase flip gate to the fourth qubit of the \"q\" register.\n",
      "\n",
      "The oracle circuit is designed to manipulate the state of the qubits based on the classical information represented by the angles pi/4 and -pi/4. The circuit uses controlled-NOT gates to apply the appropriate transformations to the qubits based on the angle of pi/4 or -pi/4, depending on the position of the qubits in the oracle circuit.\n"
     ]
    }
   ],
   "source": [
    "print(content)"
   ]
  },
  {
   "cell_type": "code",
   "execution_count": 5,
   "metadata": {},
   "outputs": [],
   "source": [
    "response = ollama.chat(model=\"llama2\", \n",
    "                       messages=[{'role': 'user', \n",
    "                                  'content': \"Can you explain me the algorithm implemented by this code?\"+code}\n",
    "                                  ])['message']\n",
    "\n",
    "content = response['content']"
   ]
  },
  {
   "cell_type": "code",
   "execution_count": 6,
   "metadata": {},
   "outputs": [
    {
     "name": "stdout",
     "output_type": "stream",
     "text": [
      "The code you provided is a simple quantum circuit that implements an oracle, which is a classical computation that affects the evolution of the quantum state. The oracle in this case is a rotation by an angle of $\\pi/4$ around the x-axis.\n",
      "\n",
      "Here's a step-by-step explanation of what the code does:\n",
      "\n",
      "1. `pi = math.pi`: This line defines the value of pi to be used in the computation.\n",
      "2. `q = QuantumRegister(4,'q')`: This line creates a quantum register with 4 qubits, named \"q\".\n",
      "3. `c = ClassicalRegister(4,'c')`: This line creates a classical register with 4 bits, named \"c\".\n",
      "4. `qc = QuantumCircuit(q,c)`: This line creates a quantum circuit that uses the quantum register \"q\" and the classical register \"c\".\n",
      "5. `print('Initialising Circuit...')` : This line prints a message indicating that the circuit is being initialised.\n",
      "6. `# Initialisation #`: This line starts a comment block that describes the oracle circuit.\n",
      "7. `qc.h(q[0])`: This line applies a Hadamard gate to the first qubit of the quantum register \"q\".\n",
      "8. `qc.h(q[1])`: This line applies a Hadamard gate to the second quBit of the quantum register \"q\".\n",
      "9. `qc.h(q[2])`: This line applies a Hadamard gate to the third qubit of the quantum register \"q\".\n",
      "10. `qc.h(q[3])`: This line applies a Hadamard gate to the fourth qubit of the quantum register \"q\".\n",
      "11. `print('Preparing Oracle circuit...')` : This line prints a message indicating that the oracle circuit is being prepared.\n",
      "12. `# 0000 Oracle #`: This line starts a comment block that describes the oracle circuit.\n",
      "13. `qc.x(q[0])`: This line applies a phase gate to the first qubit of the quantum register \"q\", which effectively flips its state from |0⟩ to |1⟩ and vice versa.\n",
      "14. `qc.x(q[1])`: This line applies a phase gate to the second qubit of the quantum register \"q\", which effectively flips its state from |0⟩ to |1⟩ and vice versa.\n",
      "15. `qc.x(q[2])`: This line applies a phase gate to the third qubit of the quantum register \"q\", which effectively flips its state from |0⟩ to |1⟩ and vice versa.\n",
      "16. `qc.x(q[3])`: This line applies a phase gate to the fourth qubit of the quantum register \"q\", which effectively flips its state from |0⟩ to |1⟩ and vice versa.\n",
      "17. `qc.cu1(pi/4, q[0], q[3])`: This line applies a controlled-NOT (CNOT) gate between the first and third qubits of the quantum register \"q\", with an angle of $\\pi/4$ around the x-axis. This gate effectively flips the state of the third qubit if the first qubit is in the state |0⟩.\n",
      "18. `qc.cx(q[0], q[1])`: This line applies a controlled-Z (CZ) gate between the first and second qubits of the quantum register \"q\".\n",
      "19. `qc.cu1(-pi/4, q[1], q[3])`: This line applies a CNOT gate between the first and third qubits of the quantum register \"q\", with an angle of $-pi/4$ around the x-axis. This gate effectively flips the state of the third qubit if the first qubit is in the state |1⟩.\n",
      "20. `qc.cx(q[0], q[1])`: This line applies a CZ gate between the first and second qubits of the quantum register \"q\".\n",
      "21. `qc.cu1(pi/4, q[1], q[3])`: This line applies a CNOT gate between the first and third qubits of the quantum register \"q\", with an angle of $\\pi/4$ around the x-axis. This gate effectively flips the state of the third qubit if the first qubit is in the state |1⟩.\n",
      "22. `qc.cx(q[1], q[2])`: This line applies a CZ gate between the second and third qubits of the quantum register \"q\".\n",
      "23. `qc.cu1(-pi/4, q[2], q[3])`: This line applies a CNOT gate between the second and third qubits of the quantum register \"q\", with an angle of $-pi/4$ around the x-axis. This gate effectively flips the state of the third qubit if the second qubit is in the state |0⟩.\n",
      "24. `qc.cx(q[0], q[2])`: This line applies a CZ gate between the first and second qubits of the quantum register \"q\".\n",
      "25. `qc.cu1(pi/4, q[2], q[3])`: This line applies a CNOT gate between the second and third qubits of the quantum register \"q\", with an angle of $\\pi/4$ around the x-axis. This gate effectively flips the state of the third qubit if the second qubit is in the state |1⟩.\n",
      "26. `print('Measuring...')` : This line prints a message indicating that the circuit is measuring the state of the quantum register \"q\".\n",
      "\n",
      "In summary, this quantum circuit implements an oracle that rotates the state of the third qubit by an angle of $\\pi/4$ around the x-axis, depending on the state of the first qubit. The circuit also applies a series of CZ and CNOT gates to manipulate the state of the other qubits in the register.\n"
     ]
    }
   ],
   "source": [
    "print(content)"
   ]
  }
 ],
 "metadata": {
  "kernelspec": {
   "display_name": "xquantum",
   "language": "python",
   "name": "python3"
  },
  "language_info": {
   "codemirror_mode": {
    "name": "ipython",
    "version": 3
   },
   "file_extension": ".py",
   "mimetype": "text/x-python",
   "name": "python",
   "nbconvert_exporter": "python",
   "pygments_lexer": "ipython3",
   "version": "3.10.13"
  }
 },
 "nbformat": 4,
 "nbformat_minor": 2
}
