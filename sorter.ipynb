{
 "cells": [
  {
   "cell_type": "code",
   "execution_count": 10,
   "metadata": {},
   "outputs": [
    {
     "name": "stdout",
     "output_type": "stream",
     "text": [
      "['\\ufeffb gpt', 'c llama', 'a tiny']\n",
      "['b gpt', 'c llama', 'a tiny']\n",
      "['c gpt', 'b llama', 'a tiny']\n",
      "['c gpt', 'a llama', 'b tiny']\n",
      "['a gpt', 'c llama', 'b tiny']\n",
      "['c gpt', 'b llama', 'a tiny']\n",
      "['a gpt', 'b llama', 'c tiny']\n",
      "['c gpt', 'a llama', 'b tiny']\n",
      "['c gpt', 'b llama', 'a tiny']\n",
      "['c gpt', 'b llama', 'a tiny']\n",
      "['b gpt', 'c llama', 'a tiny']\n",
      "['a gpt', 'b llama', 'c tiny']\n",
      "['c gpt', 'a llama', 'b tiny']\n",
      "['b gpt', 'c llama', 'a tiny']\n",
      "['a gpt', 'c llama', 'b tiny']\n",
      "['a gpt', 'c llama', 'b tiny']\n",
      "['c gpt', 'b llama', 'a tiny']\n",
      "['c gpt', 'a llama', 'b tiny']\n",
      "['a gpt', 'c llama', 'b tiny']\n",
      "['b gpt', 'c llama', 'a tiny']\n",
      "['c gpt', 'b llama', 'a tiny']\n",
      "['c gpt', 'a llama', 'b tiny']\n",
      "['a gpt', 'b llama', 'c tiny']\n",
      "['c gpt', 'b llama', 'a tiny']\n",
      "['a gpt', 'b llama', 'c tiny']\n",
      "['c gpt', 'a llama', 'b tiny']\n",
      "['c gpt', 'b llama', 'a tiny']\n",
      "['c gpt', 'b llama', 'a tiny']\n",
      "['b gpt', 'c llama', 'a tiny']\n",
      "['c gpt', 'a llama', 'b tiny']\n",
      "['a gpt', 'b llama', 'c tiny']\n",
      "['b gpt', 'c llama', 'a tiny']\n",
      "['c gpt', 'a llama', 'b tiny']\n",
      "['c gpt', 'a llama', 'b tiny']\n",
      "['b gpt', 'c llama', 'a tiny']\n",
      "['c gpt', 'a llama', 'b tiny']\n",
      "['a gpt', 'b llama', 'c tiny']\n",
      "['b gpt', 'c llama', 'a tiny']\n",
      "['c gpt', 'a llama', 'b tiny']\n",
      "['c gpt', 'a llama', 'b tiny']\n",
      "['b gpt', 'c llama', 'a tiny']\n"
     ]
    }
   ],
   "source": [
    "with open('data.csv', 'r') as f:\n",
    "  lines = f.readlines()\n",
    "  for line in lines:\n",
    "    line = line.strip()\n",
    "    parts = line.split(';')\n",
    "    print(parts)"
   ]
  }
 ],
 "metadata": {
  "kernelspec": {
   "display_name": "xquantum",
   "language": "python",
   "name": "python3"
  },
  "language_info": {
   "codemirror_mode": {
    "name": "ipython",
    "version": 3
   },
   "file_extension": ".py",
   "mimetype": "text/x-python",
   "name": "python",
   "nbconvert_exporter": "python",
   "pygments_lexer": "ipython3",
   "version": "3.10.13"
  }
 },
 "nbformat": 4,
 "nbformat_minor": 2
}
