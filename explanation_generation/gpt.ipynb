{
 "cells": [
  {
   "cell_type": "code",
   "execution_count": 22,
   "metadata": {},
   "outputs": [],
   "source": [
    "import openai\n",
    "import open_ai_key"
   ]
  },
  {
   "cell_type": "code",
   "execution_count": 23,
   "metadata": {},
   "outputs": [],
   "source": [
    "openai.api_key = open_ai_key.api_key\n",
    "model_name = 'gpt-3.5-turbo-16k' \n",
    "temperature = 0.8"
   ]
  },
  {
   "cell_type": "code",
   "execution_count": 40,
   "metadata": {},
   "outputs": [],
   "source": [
    "import pandas as pd\n",
    "def parseAlgorithmCharacteristics(algo):\n",
    "    data = pd.ExcelFile('../Dataset/Characteristics.xlsx')\n",
    "    df = pd.read_excel(data)\n",
    "    filtered_df = df[df['File'].str.contains(algo)]\n",
    "    algorithmName = filtered_df['Algorithm'].values[0]\n",
    "    cubits = filtered_df['Number of Qubits'].values[0]\n",
    "    desc = filtered_df['One line description'].values[0]\n",
    "    return str(algorithmName), str(cubits), str(desc)"
   ]
  },
  {
   "cell_type": "code",
   "execution_count": 41,
   "metadata": {},
   "outputs": [],
   "source": [
    "import os\n",
    "def runPrompt(complexPrompt):\n",
    "    for root, dirs, files in os.walk('../Dataset/Code'):\n",
    "          for filename in files:\n",
    "            inFile = open(os.path.join(root, filename), \"r\", encoding = 'utf-8')\n",
    "            code = inFile.read()\n",
    "            prompt = \"Can you give a high-level explanation of this code?\" + code\n",
    "            if complexPrompt:\n",
    "                algorithmName, cubits, desc = parseAlgorithmCharacteristics(filename)\n",
    "                prompt += 'The name of the algorithm is: ' + algorithmName + '\\n'\n",
    "                prompt += 'The code includes ' + cubits + ' cubits' + '\\n'\n",
    "            messages = [{\"role\": \"user\", \"content\": prompt}]\n",
    "    \n",
    "            response = openai.chat.completions.create(model=model_name, messages=messages, temperature=temperature)\n",
    "    \n",
    "            content = response.choices[0].message.content\n",
    "            out = open(os.getcwd() + '/../Output/gpt/' + filename + '_' + str(complexPrompt), 'w')\n",
    "            out.write(content)\n",
    "            print(content)"
   ]
  },
  {
   "cell_type": "code",
   "execution_count": 42,
   "metadata": {},
   "outputs": [
    {
     "name": "stdout",
     "output_type": "stream",
     "text": [
      "This code is written in QASM (Quantum Assembly Language) and is for the Amplitude Estimation algorithm. The code includes the declaration and initialization of quantum registers `eval` (with 4 qubits) and `q` (with 1 qubit), and classical register `meas` (with 5 bits).\n",
      "\n",
      "The code then applies various gates and operations on the qubits. It applies u2 and u3 gates on the `eval` qubits, followed by cx gates with `q[0]`. It also applies cx gates between `eval` qubits. Then, it applies h, cp, and u gates on the `eval` qubits. Finally, it applies a barrier and measures the `eval` and `q[0]` qubits into the `meas` classical register.\n",
      "\n",
      "The purpose of this code is to estimate the amplitude of a particular state in a quantum system using the Amplitude Estimation algorithm.\n",
      "This code is written in OpenQASM 2.0 and is performing the Deutsch-Jozsa algorithm. The algorithm is designed to solve the Deutsch-Jozsa problem which is a problem in computer science and mathematics. \n",
      "\n",
      "The code starts by including the necessary library \"qelib1.inc\" and declaring a quantum register \"q\" with 10 qubits and a classical register \"c\" with 9 bits.\n",
      "\n",
      "The code then applies various quantum gates and measurements to the qubits. The gates used include the Hadamard gate (h) and the u2 gate (a general single-qubit gate with two parameters). The code also applies controlled-not (cx) gates to perform controlled operations.\n",
      "\n",
      "After applying the gates and measurements, a barrier is placed to ensure that all operations have completed before proceeding. The measurements of the qubits are then stored in the classical register \"c\".\n",
      "\n",
      "In summary, the code is implementing the Deutsch-Jozsa algorithm using 10 qubits and performing various quantum gates and measurements to solve a specific problem.\n",
      "This code is written in the OpenQASM language and is used to implement the Grover algorithm. The algorithm is defined as a quantum circuit that operates on a quantum register called \"q\" consisting of two qubits and a classical register called \"meas\" consisting of three bits. \n",
      "\n",
      "The code begins by including the necessary quantum gates from the qelib1 library. It then initializes the quantum registers by applying the Hadamard gate (h) to both qubits in the \"q\" register. It also applies the Pauli-X gate (x) to the first qubit in the \"flag\" register.\n",
      "\n",
      "Next, a controlled-phase gate (cp) is applied between the second qubit in the \"q\" register and the first qubit in the \"flag\" register with an angle of pi/2. This gate represents an oracle that marks the solution(s) in the quantum state.\n",
      "\n",
      "Then, a controlled-NOT gate (cx) is applied between the second qubit in the \"q\" register and the first qubit in the \"q\" register. This gate is used to propagate the marked state(s) to the first qubit.\n",
      "\n",
      "Another controlled-phase gate is applied between the first qubit in the \"q\" register and the first qubit in the \"flag\" register with an angle of -pi/2. This undoes the marking operation.\n",
      "\n",
      "Again, a controlled-NOT gate is applied between the second qubit and the first qubit in the \"q\" register to propagate the unmarked state(s) back to the second qubit.\n",
      "\n",
      "Then, another controlled-phase gate is applied between the first qubit in the \"q\" register and the first qubit in the \"flag\" register with an angle of pi/2. This re-marks the solution(s).\n",
      "\n",
      "Next, two single-qubit gates u2(0,0) and u1(-pi) are applied to the first and second qubits respectively.\n",
      "\n",
      "A controlled-NOT gate is then applied between the first qubit and the second qubit in the \"q\" register.\n",
      "\n",
      "Two more single-qubit gates u2(-pi,-pi) and u1(-pi) are applied to the first and second qubits respectively.\n",
      "\n",
      "A barrier is added to separate the preparation stage from the measurement stage.\n",
      "\n",
      "Finally, measurements are performed on the first qubit in the \"q\" register and the first qubit in the \"flag\" register, and the results are stored in the \"meas\" classical register.\n",
      "\n",
      "Overall, this code implements the Grover algorithm by applying a series of quantum gates to manipulate the quantum state and extract the desired solution(s) to a problem.\n",
      "This code is implementing the Quantum Fourier Transform algorithm with entanglement. The code includes 5 qubits represented by the qreg and creg variables. The algorithm involves applying a series of Hadamard gates (represented by the h command) and controlled-Not gates (represented by the cx command) to entangle and manipulate the qubits. The algorithm also includes phase gates (represented by the cp command) to introduce phase shifts at various points. Finally, the algorithm uses the swap command to swap the qubits in positions 0 and 4, and positions 1 and 3. After all the operations, the code includes measures to read out the final state of each qubit and store the results in the meas array.\n",
      "This code implements the Quantum Fourier Transform algorithm. It uses 10 qubits (labeled q[0] to q[9]) and 10 classical registers (labeled c[0] to c[9]) to store the measurement results. \n",
      "\n",
      "The code starts by applying a Hadamard gate (H) to qubit q[9], followed by controlled phase gates (CP) between q[9] and q[8], q[8] and q[7], q[9] and q[7], and so on. This sequence of gates is repeated for qubits q[6] to q[0], with the control qubit changing in each step.\n",
      "\n",
      "After applying the gates, the code swaps the values of q[0] and q[9], q[1] and q[8], q[2] and q[7], q[3] and q[6], and q[4] and q[5]. This swapping step is followed by a barrier to ensure that all gates have completed before proceeding.\n",
      "\n",
      "Finally, the code measures the values of qubits q[0] to q[9] and stores the results in classical registers meas[0] to meas[9].\n",
      "\n",
      "Overall, this code implements the Quantum Fourier Transform algorithm using 10 qubits and measures the results.\n",
      "This code is written in QASM (Quantum Assembly Language) and implements the Quantum Phase Estimation algorithm. \n",
      "\n",
      "The code begins with some comments providing information about the benchmark, including the creator, date, and versions of MQT Bench and Qiskit used. \n",
      "\n",
      "The code then imports the necessary quantum gates and creates quantum registers q and psi, as well as a classical register c. \n",
      "\n",
      "Next, the code applies Hadamard gates (h) to each qubit in the q register, and applies an X gate to the psi qubit. \n",
      "\n",
      "Following that, the code applies controlled phase gates (cp) to the psi qubit and each qubit in the q register, with varying angles. \n",
      "\n",
      "Next, the code performs swap operations between qubits q[1] and q[2]. \n",
      "\n",
      "The code then applies another controlled phase gate to the psi qubit and q[3], and performs another swap operation, this time between q[0] and q[3]. \n",
      "\n",
      "After that, the code applies Hadamard gates to each qubit in the q register, and applies controlled phase gates between q[1] and q[0], q[2] and q[0], and q[2] and q[1]. \n",
      "\n",
      "Finally, the code applies additional controlled phase gates between q[3] and each qubit in the q register, applies a Hadamard gate to q[3], and adds a barrier. \n",
      "\n",
      "The code then measures the qubits in the q register and stores the results in the classical register c. \n",
      "\n",
      "Overall, this code implements the Quantum Phase Estimation algorithm to estimate the phase of the input state stored in the psi qubit using a series of gate operations on the qubits in the q register.\n",
      "This code is written in the OpenQASM 2.0 language and is using the Qiskit library version 1.0.2. It is a quantum algorithm called \"Quantum walk\" and is performed on a quantum computer.\n",
      "\n",
      "The code begins with some comments providing information about the benchmark and the versions of the MQT Bench and Qiskit. It then specifies the QASM version and includes the necessary Qiskit library.\n",
      "\n",
      "The code defines two quantum registers: \"node\" with 2 qubits and \"coin\" with 1 qubit. It also defines a classical register \"meas\" with 3 bits.\n",
      "\n",
      "The algorithm begins by applying a Hadamard gate (h) on the \"coin\" qubit. It then performs a controlled-controlled-X gate (ccx) between the \"coin\" qubit and the second qubit of the \"node\" register, followed by a controlled-X gate (cx) between the \"coin\" qubit and the second qubit of the \"node\" register.\n",
      "\n",
      "The code then applies an X gate on the second qubit of the \"node\" register and an X gate on the \"coin\" qubit. It repeats the ccx and cx gates, followed by the X gates on the second qubit of the \"node\" register and the \"coin\" qubit, multiple times. The u2 gate is also applied with angles (-pi, -pi) on the \"coin\" qubit, and the ccx and cx gates are repeated.\n",
      "\n",
      "After the repeated gates, a barrier is applied to the qubits. The \"node\" qubits and the \"coin\" qubit are then measured and stored in the classical register \"meas\".\n",
      "\n",
      "Overall, this code performs operations on the quantum registers \"node\" and \"coin\" using gates like Hadamard, controlled-controlled-X, controlled-X, and X gates. It then measures the qubits and stores the results in a classical register. The purpose and details of the algorithm can be better understood by analyzing the gates and their repetition pattern.\n"
     ]
    },
    {
     "ename": "IndexError",
     "evalue": "index 0 is out of bounds for axis 0 with size 0",
     "output_type": "error",
     "traceback": [
      "\u001b[1;31m---------------------------------------------------------------------------\u001b[0m",
      "\u001b[1;31mIndexError\u001b[0m                                Traceback (most recent call last)",
      "\u001b[1;32m<ipython-input-42-49bd8ab152ab>\u001b[0m in \u001b[0;36m<module>\u001b[1;34m\u001b[0m\n\u001b[0;32m      3\u001b[0m \u001b[1;33m\u001b[0m\u001b[0m\n\u001b[0;32m      4\u001b[0m \u001b[1;31m# Prompt 2: Include algorithm name and number of cubits\u001b[0m\u001b[1;33m\u001b[0m\u001b[1;33m\u001b[0m\u001b[1;33m\u001b[0m\u001b[0m\n\u001b[1;32m----> 5\u001b[1;33m \u001b[0mrunPrompt\u001b[0m\u001b[1;33m(\u001b[0m\u001b[1;32mTrue\u001b[0m\u001b[1;33m)\u001b[0m\u001b[1;33m\u001b[0m\u001b[1;33m\u001b[0m\u001b[0m\n\u001b[0m",
      "\u001b[1;32m<ipython-input-41-69b33a974367>\u001b[0m in \u001b[0;36mrunPrompt\u001b[1;34m(complexPrompt)\u001b[0m\n\u001b[0;32m      7\u001b[0m             \u001b[0mprompt\u001b[0m \u001b[1;33m=\u001b[0m \u001b[1;34m\"Can you give a high-level explanation of this code?\"\u001b[0m \u001b[1;33m+\u001b[0m \u001b[0mcode\u001b[0m\u001b[1;33m\u001b[0m\u001b[1;33m\u001b[0m\u001b[0m\n\u001b[0;32m      8\u001b[0m             \u001b[1;32mif\u001b[0m \u001b[0mcomplexPrompt\u001b[0m\u001b[1;33m:\u001b[0m\u001b[1;33m\u001b[0m\u001b[1;33m\u001b[0m\u001b[0m\n\u001b[1;32m----> 9\u001b[1;33m                 \u001b[0malgorithmName\u001b[0m\u001b[1;33m,\u001b[0m \u001b[0mcubits\u001b[0m\u001b[1;33m,\u001b[0m \u001b[0mdesc\u001b[0m \u001b[1;33m=\u001b[0m \u001b[0mparseAlgorithmCharacteristics\u001b[0m\u001b[1;33m(\u001b[0m\u001b[0mfilename\u001b[0m\u001b[1;33m)\u001b[0m\u001b[1;33m\u001b[0m\u001b[1;33m\u001b[0m\u001b[0m\n\u001b[0m\u001b[0;32m     10\u001b[0m                 \u001b[0mprompt\u001b[0m \u001b[1;33m+=\u001b[0m \u001b[1;34m'The name of the algorithm is: '\u001b[0m \u001b[1;33m+\u001b[0m \u001b[0malgorithmName\u001b[0m \u001b[1;33m+\u001b[0m \u001b[1;34m'\\n'\u001b[0m\u001b[1;33m\u001b[0m\u001b[1;33m\u001b[0m\u001b[0m\n\u001b[0;32m     11\u001b[0m                 \u001b[0mprompt\u001b[0m \u001b[1;33m+=\u001b[0m \u001b[1;34m'The code includes '\u001b[0m \u001b[1;33m+\u001b[0m \u001b[0mcubits\u001b[0m \u001b[1;33m+\u001b[0m \u001b[1;34m' cubits'\u001b[0m \u001b[1;33m+\u001b[0m \u001b[1;34m'\\n'\u001b[0m\u001b[1;33m\u001b[0m\u001b[1;33m\u001b[0m\u001b[0m\n",
      "\u001b[1;32m<ipython-input-40-5ad3520375ca>\u001b[0m in \u001b[0;36mparseAlgorithmCharacteristics\u001b[1;34m(algo)\u001b[0m\n\u001b[0;32m      4\u001b[0m     \u001b[0mdf\u001b[0m \u001b[1;33m=\u001b[0m \u001b[0mpd\u001b[0m\u001b[1;33m.\u001b[0m\u001b[0mread_excel\u001b[0m\u001b[1;33m(\u001b[0m\u001b[0mdata\u001b[0m\u001b[1;33m)\u001b[0m\u001b[1;33m\u001b[0m\u001b[1;33m\u001b[0m\u001b[0m\n\u001b[0;32m      5\u001b[0m     \u001b[0mfiltered_df\u001b[0m \u001b[1;33m=\u001b[0m \u001b[0mdf\u001b[0m\u001b[1;33m[\u001b[0m\u001b[0mdf\u001b[0m\u001b[1;33m[\u001b[0m\u001b[1;34m'File'\u001b[0m\u001b[1;33m]\u001b[0m\u001b[1;33m.\u001b[0m\u001b[0mstr\u001b[0m\u001b[1;33m.\u001b[0m\u001b[0mcontains\u001b[0m\u001b[1;33m(\u001b[0m\u001b[0malgo\u001b[0m\u001b[1;33m)\u001b[0m\u001b[1;33m]\u001b[0m\u001b[1;33m\u001b[0m\u001b[1;33m\u001b[0m\u001b[0m\n\u001b[1;32m----> 6\u001b[1;33m     \u001b[0malgorithmName\u001b[0m \u001b[1;33m=\u001b[0m \u001b[0mfiltered_df\u001b[0m\u001b[1;33m[\u001b[0m\u001b[1;34m'Algorithm'\u001b[0m\u001b[1;33m]\u001b[0m\u001b[1;33m.\u001b[0m\u001b[0mvalues\u001b[0m\u001b[1;33m[\u001b[0m\u001b[1;36m0\u001b[0m\u001b[1;33m]\u001b[0m\u001b[1;33m\u001b[0m\u001b[1;33m\u001b[0m\u001b[0m\n\u001b[0m\u001b[0;32m      7\u001b[0m     \u001b[0mcubits\u001b[0m \u001b[1;33m=\u001b[0m \u001b[0mfiltered_df\u001b[0m\u001b[1;33m[\u001b[0m\u001b[1;34m'Number of Qubits'\u001b[0m\u001b[1;33m]\u001b[0m\u001b[1;33m.\u001b[0m\u001b[0mvalues\u001b[0m\u001b[1;33m[\u001b[0m\u001b[1;36m0\u001b[0m\u001b[1;33m]\u001b[0m\u001b[1;33m\u001b[0m\u001b[1;33m\u001b[0m\u001b[0m\n\u001b[0;32m      8\u001b[0m     \u001b[0mdesc\u001b[0m \u001b[1;33m=\u001b[0m \u001b[0mfiltered_df\u001b[0m\u001b[1;33m[\u001b[0m\u001b[1;34m'One line description'\u001b[0m\u001b[1;33m]\u001b[0m\u001b[1;33m.\u001b[0m\u001b[0mvalues\u001b[0m\u001b[1;33m[\u001b[0m\u001b[1;36m0\u001b[0m\u001b[1;33m]\u001b[0m\u001b[1;33m\u001b[0m\u001b[1;33m\u001b[0m\u001b[0m\n",
      "\u001b[1;31mIndexError\u001b[0m: index 0 is out of bounds for axis 0 with size 0"
     ]
    }
   ],
   "source": [
    "# Prompt 1: Basic\n",
    "# runPrompt(False)\n",
    "\n",
    "# Prompt 2: Include algorithm name and number of cubits \n",
    "runPrompt(True)"
   ]
  },
  {
   "cell_type": "code",
   "execution_count": null,
   "metadata": {},
   "outputs": [],
   "source": []
  }
 ],
 "metadata": {
  "kernelspec": {
   "display_name": "Python 3",
   "language": "python",
   "name": "python3"
  },
  "language_info": {
   "codemirror_mode": {
    "name": "ipython",
    "version": 3
   },
   "file_extension": ".py",
   "mimetype": "text/x-python",
   "name": "python",
   "nbconvert_exporter": "python",
   "pygments_lexer": "ipython3",
   "version": "3.8.8"
  }
 },
 "nbformat": 4,
 "nbformat_minor": 4
}
