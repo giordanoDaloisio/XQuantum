{
 "cells": [
  {
   "cell_type": "code",
   "execution_count": 1,
   "metadata": {},
   "outputs": [],
   "source": [
    "import pandas as pd\n",
    "import numpy as np\n",
    "import seaborn as sns\n",
    "import matplotlib.pyplot as plt\n",
    "import scipy.stats as stats\n",
    "from krippendorff import alpha\n",
    "from cliffs_delta import cliffs_delta\n",
    "\n",
    "sns.set_theme(style=\"whitegrid\", context=\"paper\", font_scale=1.3)"
   ]
  },
  {
   "cell_type": "code",
   "execution_count": 3,
   "metadata": {},
   "outputs": [],
   "source": [
    "res = pd.read_csv(\"results.csv\", sep=\";\", header=None)\n",
    "res2 = pd.read_csv(\"rq4_eval.csv\", sep=\";\", header=None)"
   ]
  },
  {
   "cell_type": "code",
   "execution_count": 4,
   "metadata": {},
   "outputs": [
    {
     "data": {
      "text/html": [
       "<div>\n",
       "<style scoped>\n",
       "    .dataframe tbody tr th:only-of-type {\n",
       "        vertical-align: middle;\n",
       "    }\n",
       "\n",
       "    .dataframe tbody tr th {\n",
       "        vertical-align: top;\n",
       "    }\n",
       "\n",
       "    .dataframe thead th {\n",
       "        text-align: right;\n",
       "    }\n",
       "</style>\n",
       "<table border=\"1\" class=\"dataframe\">\n",
       "  <thead>\n",
       "    <tr style=\"text-align: right;\">\n",
       "      <th></th>\n",
       "      <th>0</th>\n",
       "      <th>1</th>\n",
       "      <th>2</th>\n",
       "      <th>3</th>\n",
       "      <th>4</th>\n",
       "      <th>5</th>\n",
       "      <th>6</th>\n",
       "      <th>7</th>\n",
       "      <th>8</th>\n",
       "      <th>9</th>\n",
       "      <th>...</th>\n",
       "      <th>118</th>\n",
       "      <th>119</th>\n",
       "      <th>120</th>\n",
       "      <th>121</th>\n",
       "      <th>122</th>\n",
       "      <th>123</th>\n",
       "      <th>124</th>\n",
       "      <th>125</th>\n",
       "      <th>126</th>\n",
       "      <th>127</th>\n",
       "    </tr>\n",
       "  </thead>\n",
       "  <tbody>\n",
       "    <tr>\n",
       "      <th>0</th>\n",
       "      <td>SE_Expertise</td>\n",
       "      <td>Quantum_Expertise</td>\n",
       "      <td>Run1</td>\n",
       "      <td>Run1</td>\n",
       "      <td>Run1</td>\n",
       "      <td>Run1</td>\n",
       "      <td>Run1</td>\n",
       "      <td>Run1</td>\n",
       "      <td>Run2</td>\n",
       "      <td>Run2</td>\n",
       "      <td>...</td>\n",
       "      <td>Run2</td>\n",
       "      <td>Run2</td>\n",
       "      <td>Run2</td>\n",
       "      <td>Run2</td>\n",
       "      <td>Run3</td>\n",
       "      <td>Run3</td>\n",
       "      <td>Run3</td>\n",
       "      <td>Run3</td>\n",
       "      <td>Run3</td>\n",
       "      <td>Run3</td>\n",
       "    </tr>\n",
       "    <tr>\n",
       "      <th>1</th>\n",
       "      <td>NaN</td>\n",
       "      <td>NaN</td>\n",
       "      <td>simple</td>\n",
       "      <td>simple</td>\n",
       "      <td>simple</td>\n",
       "      <td>complex</td>\n",
       "      <td>complex</td>\n",
       "      <td>complex</td>\n",
       "      <td>complex</td>\n",
       "      <td>complex</td>\n",
       "      <td>...</td>\n",
       "      <td>complex</td>\n",
       "      <td>simple</td>\n",
       "      <td>simple</td>\n",
       "      <td>simple</td>\n",
       "      <td>simple</td>\n",
       "      <td>simple</td>\n",
       "      <td>simple</td>\n",
       "      <td>complex</td>\n",
       "      <td>complex</td>\n",
       "      <td>complex</td>\n",
       "    </tr>\n",
       "    <tr>\n",
       "      <th>2</th>\n",
       "      <td>NaN</td>\n",
       "      <td>NaN</td>\n",
       "      <td>gpt</td>\n",
       "      <td>llama</td>\n",
       "      <td>tiny</td>\n",
       "      <td>tiny</td>\n",
       "      <td>gpt</td>\n",
       "      <td>llama</td>\n",
       "      <td>tiny</td>\n",
       "      <td>gpt</td>\n",
       "      <td>...</td>\n",
       "      <td>llama</td>\n",
       "      <td>llama</td>\n",
       "      <td>tiny</td>\n",
       "      <td>gpt</td>\n",
       "      <td>llama</td>\n",
       "      <td>tiny</td>\n",
       "      <td>gpt</td>\n",
       "      <td>tiny</td>\n",
       "      <td>gpt</td>\n",
       "      <td>llama</td>\n",
       "    </tr>\n",
       "    <tr>\n",
       "      <th>3</th>\n",
       "      <td>5-10 years</td>\n",
       "      <td>3-4 years</td>\n",
       "      <td>2</td>\n",
       "      <td>4</td>\n",
       "      <td>1</td>\n",
       "      <td>1</td>\n",
       "      <td>5</td>\n",
       "      <td>4</td>\n",
       "      <td>3</td>\n",
       "      <td>3</td>\n",
       "      <td>...</td>\n",
       "      <td>5</td>\n",
       "      <td>2</td>\n",
       "      <td>1</td>\n",
       "      <td>2</td>\n",
       "      <td>2</td>\n",
       "      <td>1</td>\n",
       "      <td>1</td>\n",
       "      <td>4</td>\n",
       "      <td>3</td>\n",
       "      <td>5</td>\n",
       "    </tr>\n",
       "    <tr>\n",
       "      <th>4</th>\n",
       "      <td>3-4 years</td>\n",
       "      <td>1-2 years</td>\n",
       "      <td>3</td>\n",
       "      <td>2</td>\n",
       "      <td>1</td>\n",
       "      <td>1</td>\n",
       "      <td>4</td>\n",
       "      <td>4</td>\n",
       "      <td>2</td>\n",
       "      <td>2</td>\n",
       "      <td>...</td>\n",
       "      <td>4</td>\n",
       "      <td>1</td>\n",
       "      <td>1</td>\n",
       "      <td>1</td>\n",
       "      <td>1</td>\n",
       "      <td>1</td>\n",
       "      <td>1</td>\n",
       "      <td>3</td>\n",
       "      <td>3</td>\n",
       "      <td>3</td>\n",
       "    </tr>\n",
       "    <tr>\n",
       "      <th>5</th>\n",
       "      <td>3-4 years</td>\n",
       "      <td>1-2 years</td>\n",
       "      <td>2</td>\n",
       "      <td>3</td>\n",
       "      <td>1</td>\n",
       "      <td>3</td>\n",
       "      <td>3</td>\n",
       "      <td>3</td>\n",
       "      <td>5</td>\n",
       "      <td>2</td>\n",
       "      <td>...</td>\n",
       "      <td>4</td>\n",
       "      <td>2</td>\n",
       "      <td>2</td>\n",
       "      <td>2</td>\n",
       "      <td>2</td>\n",
       "      <td>1</td>\n",
       "      <td>2</td>\n",
       "      <td>3</td>\n",
       "      <td>3</td>\n",
       "      <td>4</td>\n",
       "    </tr>\n",
       "    <tr>\n",
       "      <th>6</th>\n",
       "      <td>5-10 years</td>\n",
       "      <td>Under a year</td>\n",
       "      <td>3</td>\n",
       "      <td>3</td>\n",
       "      <td>1</td>\n",
       "      <td>4</td>\n",
       "      <td>2</td>\n",
       "      <td>4</td>\n",
       "      <td>1</td>\n",
       "      <td>2</td>\n",
       "      <td>...</td>\n",
       "      <td>4</td>\n",
       "      <td>3</td>\n",
       "      <td>1</td>\n",
       "      <td>3</td>\n",
       "      <td>3</td>\n",
       "      <td>1</td>\n",
       "      <td>3</td>\n",
       "      <td>1</td>\n",
       "      <td>2</td>\n",
       "      <td>3</td>\n",
       "    </tr>\n",
       "  </tbody>\n",
       "</table>\n",
       "<p>7 rows × 128 columns</p>\n",
       "</div>"
      ],
      "text/plain": [
       "            0                  1        2        3        4         5    \\\n",
       "0  SE_Expertise  Quantum_Expertise     Run1     Run1     Run1      Run1   \n",
       "1           NaN                NaN  simple   simple   simple   complex    \n",
       "2           NaN                NaN      gpt    llama     tiny      tiny   \n",
       "3    5-10 years          3-4 years        2        4        1         1   \n",
       "4     3-4 years          1-2 years        3        2        1         1   \n",
       "5     3-4 years          1-2 years        2        3        1         3   \n",
       "6    5-10 years       Under a year        3        3        1         4   \n",
       "\n",
       "        6         7         8         9    ...       118      119      120  \\\n",
       "0      Run1      Run1      Run2      Run2  ...      Run2     Run2     Run2   \n",
       "1  complex   complex   complex   complex   ...  complex   simple   simple    \n",
       "2       gpt     llama      tiny       gpt  ...     llama    llama     tiny   \n",
       "3         5         4         3         3  ...         5        2        1   \n",
       "4         4         4         2         2  ...         4        1        1   \n",
       "5         3         3         5         2  ...         4        2        2   \n",
       "6         2         4         1         2  ...         4        3        1   \n",
       "\n",
       "       121      122      123      124       125       126       127  \n",
       "0     Run2     Run3     Run3     Run3      Run3      Run3      Run3  \n",
       "1  simple   simple   simple   simple   complex   complex   complex   \n",
       "2      gpt    llama     tiny      gpt      tiny       gpt     llama  \n",
       "3        2        2        1        1         4         3         5  \n",
       "4        1        1        1        1         3         3         3  \n",
       "5        2        2        1        2         3         3         4  \n",
       "6        3        3        1        3         1         2         3  \n",
       "\n",
       "[7 rows x 128 columns]"
      ]
     },
     "execution_count": 4,
     "metadata": {},
     "output_type": "execute_result"
    }
   ],
   "source": [
    "res"
   ]
  },
  {
   "cell_type": "code",
   "execution_count": 5,
   "metadata": {},
   "outputs": [],
   "source": [
    "res_t = res.drop(columns=[0,1]).T\n",
    "res_t.columns = [\"Run\", \"Prompt\", \"Model\", \"Score1\", \"Score2\", \"Score3\", \"Score4\"]\n",
    "res_t[\"Score1\"] = res_t[\"Score1\"].astype(float)\n",
    "res_t[\"Score2\"] = res_t[\"Score2\"].astype(float)\n",
    "res_t[\"Score3\"] = res_t[\"Score3\"].astype(float)\n",
    "res_t[\"Score4\"] = res_t[\"Score4\"].astype(float)\n",
    "\n",
    "res_t[\"Score\"] = res_t[[\"Score1\", \"Score2\", \"Score3\", \"Score4\"]].mean(axis=1)\n",
    "res_t[\"Prompt\"] = res_t[\"Prompt\"].str.strip()"
   ]
  },
  {
   "cell_type": "code",
   "execution_count": 6,
   "metadata": {},
   "outputs": [],
   "source": [
    "res2_t = res2.drop(columns=[0, 1]).T\n",
    "res2_t.columns = [\"Model\", \"Score1\", \"Score2\", \"Score3\", \"Score4\"]\n",
    "res2_t[\"Score1\"] = res2_t[\"Score1\"].astype(float)\n",
    "res2_t[\"Score2\"] = res2_t[\"Score2\"].astype(float)\n",
    "res2_t[\"Score3\"] = res2_t[\"Score3\"].astype(float)\n",
    "res2_t[\"Score4\"] = res2_t[\"Score4\"].astype(float)\n",
    "\n",
    "res2_t[\"Score\"] = res2_t[[\"Score1\", \"Score2\", \"Score3\", \"Score4\"]].mean(axis=1)"
   ]
  },
  {
   "cell_type": "markdown",
   "metadata": {},
   "source": [
    "## Krippendorff alpha"
   ]
  },
  {
   "cell_type": "code",
   "execution_count": 17,
   "metadata": {},
   "outputs": [
    {
     "data": {
      "text/plain": [
       "0.4716537111986928"
      ]
     },
     "execution_count": 17,
     "metadata": {},
     "output_type": "execute_result"
    }
   ],
   "source": [
    "kr = res.loc[:,2:].drop([0,1,2])\n",
    "kr = kr.astype(float)\n",
    "\n",
    "alpha(kr.values, level_of_measurement=\"interval\", value_domain=[1,2,3,4,5])"
   ]
  },
  {
   "cell_type": "code",
   "execution_count": 4,
   "metadata": {},
   "outputs": [
    {
     "data": {
      "text/plain": [
       "0.8985306668511983"
      ]
     },
     "execution_count": 4,
     "metadata": {},
     "output_type": "execute_result"
    }
   ],
   "source": [
    "kr2 = res2.loc[:, 2:].drop([0])\n",
    "kr2 = kr2.astype(float)\n",
    "\n",
    "alpha(kr2.values, level_of_measurement=\"interval\", value_domain=[1, 2, 3, 4, 5])"
   ]
  },
  {
   "cell_type": "markdown",
   "metadata": {},
   "source": [
    "## RQ 1"
   ]
  },
  {
   "cell_type": "code",
   "execution_count": 133,
   "metadata": {},
   "outputs": [
    {
     "data": {
      "image/png": "[encoded data removed]",
      "text/plain": [
       "<Figure size 500x400 with 1 Axes>"
      ]
     },
     "metadata": {},
     "output_type": "display_data"
    }
   ],
   "source": [
    "rq1 = res_t.pivot_table(\n",
    "    index=\"Run\", columns=[\"Model\"], values=[\"Score\"], aggfunc=\"mean\"\n",
    ")\n",
    "fig, ax = plt.subplots(figsize=(5,4))\n",
    "ax = sns.barplot(data=rq1.agg(\"mean\").reset_index(), x=\"Model\", y=0, palette=\"Greys\")\n",
    "plt.ylabel(\"Mean Score\")\n",
    "plt.xlabel(\"\")\n",
    "plt.xticks([0, 1, 2], [\"gpt3.5\", \"llama2\", \"tinyllama\"])\n",
    "\n",
    "for p in ax.patches:\n",
    "    if not p.get_height() == 0.0:\n",
    "        ax.annotate(\n",
    "            f\"{p.get_height():.2f}\",\n",
    "            (p.get_x() + p.get_width() / 2, p.get_height()),\n",
    "            ha=\"center\",\n",
    "            va=\"center\",\n",
    "            xytext=(0, 5),\n",
    "            textcoords=\"offset points\",\n",
    "        )\n",
    "    # p.set_hatch(hatch)\n",
    "plt.tight_layout()\n",
    "plt.savefig(\"figures/rq1.pdf\")"
   ]
  },
  {
   "cell_type": "code",
   "execution_count": 134,
   "metadata": {},
   "outputs": [],
   "source": [
    "count = res_t.drop(columns=\"Score\").melt(id_vars=[\"Run\", \"Prompt\", \"Model\"], value_vars=[\"Score1\", \"Score2\", \"Score3\", \"Score4\"], var_name=\"Score_type\", value_name=\"Score\")#.groupby([\"Model\", \"Score\"]).agg(\"count\").reset_index()"
   ]
  },
  {
   "cell_type": "code",
   "execution_count": 135,
   "metadata": {},
   "outputs": [],
   "source": [
    "count['Score'] = count['Score'].astype(str)"
   ]
  },
  {
   "cell_type": "code",
   "execution_count": 136,
   "metadata": {},
   "outputs": [
    {
     "name": "stderr",
     "output_type": "stream",
     "text": [
      "/Users/giord/miniconda3/envs/xquantum/lib/python3.10/site-packages/seaborn/_oldcore.py:1119: FutureWarning: use_inf_as_na option is deprecated and will be removed in a future version. Convert inf values to NaN before operating instead.\n",
      "  with pd.option_context('mode.use_inf_as_na', True):\n",
      "/Users/giord/miniconda3/envs/xquantum/lib/python3.10/site-packages/seaborn/_oldcore.py:1075: FutureWarning: When grouping with a length-1 list-like, you will need to pass a length-1 tuple to get_group in a future version of pandas. Pass `(name,)` instead of `name` to silence this warning.\n",
      "  data_subset = grouped_data.get_group(pd_key)\n",
      "/Users/giord/miniconda3/envs/xquantum/lib/python3.10/site-packages/seaborn/_oldcore.py:1075: FutureWarning: When grouping with a length-1 list-like, you will need to pass a length-1 tuple to get_group in a future version of pandas. Pass `(name,)` instead of `name` to silence this warning.\n",
      "  data_subset = grouped_data.get_group(pd_key)\n",
      "/Users/giord/miniconda3/envs/xquantum/lib/python3.10/site-packages/seaborn/_oldcore.py:1075: FutureWarning: When grouping with a length-1 list-like, you will need to pass a length-1 tuple to get_group in a future version of pandas. Pass `(name,)` instead of `name` to silence this warning.\n",
      "  data_subset = grouped_data.get_group(pd_key)\n",
      "/Users/giord/miniconda3/envs/xquantum/lib/python3.10/site-packages/seaborn/_oldcore.py:1075: FutureWarning: When grouping with a length-1 list-like, you will need to pass a length-1 tuple to get_group in a future version of pandas. Pass `(name,)` instead of `name` to silence this warning.\n",
      "  data_subset = grouped_data.get_group(pd_key)\n",
      "/Users/giord/miniconda3/envs/xquantum/lib/python3.10/site-packages/seaborn/_oldcore.py:1075: FutureWarning: When grouping with a length-1 list-like, you will need to pass a length-1 tuple to get_group in a future version of pandas. Pass `(name,)` instead of `name` to silence this warning.\n",
      "  data_subset = grouped_data.get_group(pd_key)\n",
      "/Users/giord/miniconda3/envs/xquantum/lib/python3.10/site-packages/seaborn/_oldcore.py:1075: FutureWarning: When grouping with a length-1 list-like, you will need to pass a length-1 tuple to get_group in a future version of pandas. Pass `(name,)` instead of `name` to silence this warning.\n",
      "  data_subset = grouped_data.get_group(pd_key)\n",
      "/Users/giord/miniconda3/envs/xquantum/lib/python3.10/site-packages/seaborn/_oldcore.py:1075: FutureWarning: When grouping with a length-1 list-like, you will need to pass a length-1 tuple to get_group in a future version of pandas. Pass `(name,)` instead of `name` to silence this warning.\n",
      "  data_subset = grouped_data.get_group(pd_key)\n",
      "/var/folders/4c/mgvn0dc97_9gst9l7jbv9n640000gn/T/ipykernel_19181/3960936517.py:4: UserWarning: set_ticklabels() should only be used with a fixed number of ticks, i.e. after set_ticks() or using a FixedLocator.\n",
      "  ax.yaxis.set_ticklabels([\"Gpt3.5\", \"\", \"Llama2\", \"\", \"Tinyllama\"])\n"
     ]
    },
    {
     "data": {
      "image/png": "[encoded data removed]",
      "text/plain": [
       "<Figure size 500x200 with 1 Axes>"
      ]
     },
     "metadata": {},
     "output_type": "display_data"
    }
   ],
   "source": [
    "fig,ax = plt.subplots(figsize=(5,2))\n",
    "ax = sns.histplot(data=count, y=\"Model\", hue=\"Score\", multiple=\"stack\", palette=\"coolwarm\", hue_order=[\"5.0\", \"4.0\", \"3.0\", \"2.0\", \"1.0\"], alpha=1)\n",
    "ax.set(xlabel=\"Number of scores\", ylabel=\"\")\n",
    "ax.yaxis.set_ticklabels([\"Gpt3.5\", \"\", \"Llama2\", \"\", \"Tinyllama\"])\n",
    "sns.move_legend(ax, \"upper left\", bbox_to_anchor=(1, 1))\n",
    "plt.savefig(\"figures/rq1_dist.pdf\", bbox_inches=\"tight\")\n",
    "plt.show()"
   ]
  },
  {
   "cell_type": "code",
   "execution_count": 137,
   "metadata": {},
   "outputs": [],
   "source": [
    "rq1.aggregate([\"mean\", \"median\"]).to_latex(\"tables/rq1.tex\")"
   ]
  },
  {
   "cell_type": "code",
   "execution_count": 138,
   "metadata": {},
   "outputs": [],
   "source": [
    "gpt = res_t[res_t[\"Model\"] == \"gpt\"]\n",
    "llama = res_t[res_t[\"Model\"] == \"llama\"]\n",
    "tiny = res_t[res_t[\"Model\"] == \"tiny\"]"
   ]
  },
  {
   "cell_type": "markdown",
   "metadata": {},
   "source": [
    "### Statistical Test"
   ]
  },
  {
   "cell_type": "code",
   "execution_count": 139,
   "metadata": {},
   "outputs": [
    {
     "data": {
      "text/plain": [
       "ShapiroResult(statistic=0.9394099463478517, pvalue=0.027249246042086298)"
      ]
     },
     "execution_count": 139,
     "metadata": {},
     "output_type": "execute_result"
    }
   ],
   "source": [
    "stats.shapiro(gpt[\"Score\"])"
   ]
  },
  {
   "cell_type": "code",
   "execution_count": 140,
   "metadata": {},
   "outputs": [
    {
     "data": {
      "text/plain": [
       "ShapiroResult(statistic=0.8768224019443664, pvalue=0.0003127229831499441)"
      ]
     },
     "execution_count": 140,
     "metadata": {},
     "output_type": "execute_result"
    }
   ],
   "source": [
    "stats.shapiro(llama[\"Score\"])"
   ]
  },
  {
   "cell_type": "code",
   "execution_count": 141,
   "metadata": {},
   "outputs": [
    {
     "data": {
      "text/plain": [
       "ShapiroResult(statistic=0.9061880178752847, pvalue=0.0022168304407318502)"
      ]
     },
     "execution_count": 141,
     "metadata": {},
     "output_type": "execute_result"
    }
   ],
   "source": [
    "stats.shapiro(tiny[\"Score\"])"
   ]
  },
  {
   "cell_type": "code",
   "execution_count": 142,
   "metadata": {},
   "outputs": [],
   "source": [
    "w1, p_val1 = stats.wilcoxon(gpt[\"Score\"], llama[\"Score\"])"
   ]
  },
  {
   "cell_type": "code",
   "execution_count": 143,
   "metadata": {},
   "outputs": [],
   "source": [
    "w2, p_val2 = stats.wilcoxon(gpt[\"Score\"], tiny[\"Score\"])"
   ]
  },
  {
   "cell_type": "code",
   "execution_count": 144,
   "metadata": {},
   "outputs": [],
   "source": [
    "w3, p_val3 = stats.wilcoxon(llama[\"Score\"], tiny[\"Score\"])"
   ]
  },
  {
   "cell_type": "code",
   "execution_count": 145,
   "metadata": {},
   "outputs": [],
   "source": [
    "# Bonferroni correction\n",
    "\n",
    "p_vals = np.multiply([p_val1, p_val2, p_val3], 3) "
   ]
  },
  {
   "cell_type": "code",
   "execution_count": 146,
   "metadata": {},
   "outputs": [
    {
     "data": {
      "text/html": [
       "<div>\n",
       "<style scoped>\n",
       "    .dataframe tbody tr th:only-of-type {\n",
       "        vertical-align: middle;\n",
       "    }\n",
       "\n",
       "    .dataframe tbody tr th {\n",
       "        vertical-align: top;\n",
       "    }\n",
       "\n",
       "    .dataframe thead th {\n",
       "        text-align: right;\n",
       "    }\n",
       "</style>\n",
       "<table border=\"1\" class=\"dataframe\">\n",
       "  <thead>\n",
       "    <tr style=\"text-align: right;\">\n",
       "      <th></th>\n",
       "      <th>Stats</th>\n",
       "      <th>p-value</th>\n",
       "      <th>$\\delta$</th>\n",
       "    </tr>\n",
       "  </thead>\n",
       "  <tbody>\n",
       "    <tr>\n",
       "      <th>gpt-llama</th>\n",
       "      <td>141.5</td>\n",
       "      <td>0.021716</td>\n",
       "      <td>-0.185374</td>\n",
       "    </tr>\n",
       "    <tr>\n",
       "      <th>gpt-tiny</th>\n",
       "      <td>53.5</td>\n",
       "      <td>0.000031</td>\n",
       "      <td>0.439909</td>\n",
       "    </tr>\n",
       "    <tr>\n",
       "      <th>llama-tiny</th>\n",
       "      <td>38.0</td>\n",
       "      <td>0.000001</td>\n",
       "      <td>0.526077</td>\n",
       "    </tr>\n",
       "  </tbody>\n",
       "</table>\n",
       "</div>"
      ],
      "text/plain": [
       "            Stats   p-value  $\\delta$\n",
       "gpt-llama   141.5  0.021716 -0.185374\n",
       "gpt-tiny     53.5  0.000031  0.439909\n",
       "llama-tiny   38.0  0.000001  0.526077"
      ]
     },
     "execution_count": 146,
     "metadata": {},
     "output_type": "execute_result"
    }
   ],
   "source": [
    "pd.DataFrame({\n",
    "  \"Stats\": [w1, w2, w3],\n",
    "  \"p-value\": p_vals,\n",
    "  \"$\\delta$\": [cliffs_delta(gpt[\"Score\"], llama[\"Score\"])[0], cliffs_delta(gpt[\"Score\"], tiny[\"Score\"])[0], cliffs_delta(llama[\"Score\"], tiny[\"Score\"])[0]]\n",
    "}, index=[\"gpt-llama\", \"gpt-tiny\", \"llama-tiny\"])\n",
    "#.to_latex(\"rq1_stats.tex\")"
   ]
  },
  {
   "cell_type": "markdown",
   "metadata": {},
   "source": [
    "## RQ 2"
   ]
  },
  {
   "cell_type": "code",
   "execution_count": 147,
   "metadata": {},
   "outputs": [
    {
     "data": {
      "image/png": "[encoded data removed]",
      "text/plain": [
       "<Figure size 500x400 with 1 Axes>"
      ]
     },
     "metadata": {},
     "output_type": "display_data"
    }
   ],
   "source": [
    "rq2 = res_t.pivot_table(\n",
    "    index=\"Run\", columns=[\"Model\", \"Prompt\"], values=[\"Score\"], aggfunc=\"mean\"\n",
    ")\n",
    "fig, ax = plt.subplots(figsize=(5,4))\n",
    "ax = sns.barplot(\n",
    "    data=rq2.agg(\"mean\").reset_index(), \n",
    "    x=\"Model\", \n",
    "    y=0, \n",
    "    hue=\"Prompt\",\n",
    "    palette=\"Greys\")\n",
    "# show values on top of bars\n",
    "for p in ax.patches:\n",
    "    if not p.get_height()==0.0:\n",
    "        ax.annotate(\n",
    "            f\"{p.get_height():.2f}\",\n",
    "            (p.get_x() + p.get_width() / 2, p.get_height()),\n",
    "            ha=\"center\",\n",
    "            va=\"center\",\n",
    "            xytext=(0, 5),\n",
    "            textcoords=\"offset points\",\n",
    "        )\n",
    "sns.move_legend(ax, \"upper right\", frameon=True)\n",
    "plt.ylabel(\"Mean Score\")\n",
    "plt.xlabel(\"\")\n",
    "plt.xticks([0, 1, 2], [\"gpt3.5\", \"llama2\", \"tinyllama\"])\n",
    "plt.tight_layout()\n",
    "plt.savefig(\"figures/rq2.pdf\")"
   ]
  },
  {
   "cell_type": "markdown",
   "metadata": {},
   "source": [
    "### Statistical Test"
   ]
  },
  {
   "cell_type": "code",
   "execution_count": 148,
   "metadata": {},
   "outputs": [],
   "source": [
    "gpt_simple = res_t[(res_t[\"Model\"] == \"gpt\")&(res_t[\"Prompt\"]=='simple')][\"Score\"]\n",
    "gpt_complex = res_t[(res_t[\"Model\"] == \"gpt\") & (res_t[\"Prompt\"] == \"complex\")][\n",
    "    \"Score\"\n",
    "]\n",
    "\n",
    "llama_simple = res_t[(res_t[\"Model\"] == \"llama\") & (res_t[\"Prompt\"] == \"simple\")][\"Score\"]\n",
    "llama_complex = res_t[(res_t[\"Model\"] == \"llama\") & (res_t[\"Prompt\"] == \"complex\")][\n",
    "    \"Score\"\n",
    "]\n",
    "\n",
    "tinyllama_simple = res_t[(res_t[\"Model\"] == \"tiny\") & (res_t[\"Prompt\"] == \"simple\")][\"Score\"]\n",
    "tinyllama_complex = res_t[(res_t[\"Model\"] == \"tiny\") & (res_t[\"Prompt\"] == \"complex\")][\n",
    "    \"Score\"\n",
    "]"
   ]
  },
  {
   "cell_type": "markdown",
   "metadata": {},
   "source": [
    "#### Shapiro-Wilk Test for Normality"
   ]
  },
  {
   "cell_type": "code",
   "execution_count": 149,
   "metadata": {},
   "outputs": [
    {
     "data": {
      "text/plain": [
       "ShapiroResult(statistic=0.9291981888088285, pvalue=0.13264979282535594)"
      ]
     },
     "execution_count": 149,
     "metadata": {},
     "output_type": "execute_result"
    }
   ],
   "source": [
    "stats.shapiro(gpt_simple)"
   ]
  },
  {
   "cell_type": "code",
   "execution_count": 150,
   "metadata": {},
   "outputs": [
    {
     "data": {
      "text/plain": [
       "ShapiroResult(statistic=0.9505965443602056, pvalue=0.3495900767392157)"
      ]
     },
     "execution_count": 150,
     "metadata": {},
     "output_type": "execute_result"
    }
   ],
   "source": [
    "stats.shapiro(gpt_complex)"
   ]
  },
  {
   "cell_type": "code",
   "execution_count": 151,
   "metadata": {},
   "outputs": [
    {
     "data": {
      "text/plain": [
       "((array([-1.84569542, -1.41352783, -1.14765351, -0.94487504, -0.77501005,\n",
       "         -0.62504005, -0.48799157, -0.35957249, -0.23684388, -0.11759451,\n",
       "          0.        ,  0.11759451,  0.23684388,  0.35957249,  0.48799157,\n",
       "          0.62504005,  0.77501005,  0.94487504,  1.14765351,  1.41352783,\n",
       "          1.84569542]),\n",
       "  array([1.25, 1.5 , 1.5 , 1.5 , 1.5 , 1.75, 1.75, 1.75, 1.75, 1.75, 1.75,\n",
       "         2.  , 2.  , 2.  , 2.  , 2.  , 2.  , 2.  , 2.25, 2.5 , 2.5 ])),\n",
       " (0.3261057585721397, 1.8571428571428572, 0.963607041891071))"
      ]
     },
     "execution_count": 151,
     "metadata": {},
     "output_type": "execute_result"
    },
    {
     "data": {
      "image/png": "[encoded data removed]",
      "text/plain": [
       "<Figure size 640x480 with 1 Axes>"
      ]
     },
     "metadata": {},
     "output_type": "display_data"
    }
   ],
   "source": [
    "# qqplot\n",
    "stats.probplot(gpt_simple, dist=\"norm\", plot=plt)"
   ]
  },
  {
   "cell_type": "code",
   "execution_count": 152,
   "metadata": {},
   "outputs": [
    {
     "data": {
      "text/plain": [
       "((array([-1.84569542, -1.41352783, -1.14765351, -0.94487504, -0.77501005,\n",
       "         -0.62504005, -0.48799157, -0.35957249, -0.23684388, -0.11759451,\n",
       "          0.        ,  0.11759451,  0.23684388,  0.35957249,  0.48799157,\n",
       "          0.62504005,  0.77501005,  0.94487504,  1.14765351,  1.41352783,\n",
       "          1.84569542]),\n",
       "  array([2.25, 2.5 , 2.75, 2.75, 2.75, 2.75, 2.75, 2.75, 3.  , 3.25, 3.25,\n",
       "         3.25, 3.25, 3.25, 3.5 , 3.5 , 3.5 , 3.5 , 3.75, 3.75, 4.  ])),\n",
       " (0.47041969935400835, 3.142857142857143, 0.9766120098102848))"
      ]
     },
     "execution_count": 152,
     "metadata": {},
     "output_type": "execute_result"
    },
    {
     "data": {
      "image/png": "[encoded data removed]",
      "text/plain": [
       "<Figure size 640x480 with 1 Axes>"
      ]
     },
     "metadata": {},
     "output_type": "display_data"
    }
   ],
   "source": [
    "stats.probplot(gpt_complex, dist=\"norm\", plot=plt)"
   ]
  },
  {
   "cell_type": "code",
   "execution_count": 153,
   "metadata": {},
   "outputs": [
    {
     "data": {
      "text/plain": [
       "ShapiroResult(statistic=0.7929722075919757, pvalue=0.0005132961024135242)"
      ]
     },
     "execution_count": 153,
     "metadata": {},
     "output_type": "execute_result"
    }
   ],
   "source": [
    "stats.shapiro(llama_simple)"
   ]
  },
  {
   "cell_type": "code",
   "execution_count": 154,
   "metadata": {},
   "outputs": [
    {
     "data": {
      "text/plain": [
       "((array([-1.84569542, -1.41352783, -1.14765351, -0.94487504, -0.77501005,\n",
       "         -0.62504005, -0.48799157, -0.35957249, -0.23684388, -0.11759451,\n",
       "          0.        ,  0.11759451,  0.23684388,  0.35957249,  0.48799157,\n",
       "          0.62504005,  0.77501005,  0.94487504,  1.14765351,  1.41352783,\n",
       "          1.84569542]),\n",
       "  array([1.5 , 1.5 , 1.75, 1.75, 2.  , 2.  , 2.  , 2.  , 2.  , 2.  , 2.  ,\n",
       "         2.  , 2.  , 2.  , 2.  , 2.  , 2.25, 2.25, 2.25, 2.25, 3.  ])),\n",
       " (0.2802490352763081, 2.0238095238095237, 0.8731785864103621))"
      ]
     },
     "execution_count": 154,
     "metadata": {},
     "output_type": "execute_result"
    },
    {
     "data": {
      "image/png": "[encoded data removed]",
      "text/plain": [
       "<Figure size 640x480 with 1 Axes>"
      ]
     },
     "metadata": {},
     "output_type": "display_data"
    }
   ],
   "source": [
    "stats.probplot(llama_simple, dist=\"norm\", plot=plt)"
   ]
  },
  {
   "cell_type": "code",
   "execution_count": 155,
   "metadata": {},
   "outputs": [
    {
     "data": {
      "text/plain": [
       "ShapiroResult(statistic=0.8750517254391459, pvalue=0.011839767596732666)"
      ]
     },
     "execution_count": 155,
     "metadata": {},
     "output_type": "execute_result"
    }
   ],
   "source": [
    "stats.shapiro(llama_complex)"
   ]
  },
  {
   "cell_type": "code",
   "execution_count": 156,
   "metadata": {},
   "outputs": [
    {
     "data": {
      "text/plain": [
       "((array([-1.84569542, -1.41352783, -1.14765351, -0.94487504, -0.77501005,\n",
       "         -0.62504005, -0.48799157, -0.35957249, -0.23684388, -0.11759451,\n",
       "          0.        ,  0.11759451,  0.23684388,  0.35957249,  0.48799157,\n",
       "          0.62504005,  0.77501005,  0.94487504,  1.14765351,  1.41352783,\n",
       "          1.84569542]),\n",
       "  array([1.5 , 2.25, 2.75, 2.75, 3.25, 3.25, 3.5 , 3.5 , 3.75, 3.75, 3.75,\n",
       "         3.75, 3.75, 3.75, 3.75, 4.  , 4.  , 4.25, 4.25, 4.25, 4.5 ])),\n",
       " (0.7057700296150751, 3.5357142857142856, 0.9302494600363892))"
      ]
     },
     "execution_count": 156,
     "metadata": {},
     "output_type": "execute_result"
    },
    {
     "data": {
      "image/png": "[encoded data removed]",
      "text/plain": [
       "<Figure size 640x480 with 1 Axes>"
      ]
     },
     "metadata": {},
     "output_type": "display_data"
    }
   ],
   "source": [
    "stats.probplot(llama_complex, dist=\"norm\", plot=plt)"
   ]
  },
  {
   "cell_type": "code",
   "execution_count": 157,
   "metadata": {},
   "outputs": [
    {
     "data": {
      "text/plain": [
       "ShapiroResult(statistic=0.8472109834123442, pvalue=0.003804282814515208)"
      ]
     },
     "execution_count": 157,
     "metadata": {},
     "output_type": "execute_result"
    }
   ],
   "source": [
    "stats.shapiro(tinyllama_simple)"
   ]
  },
  {
   "cell_type": "code",
   "execution_count": 158,
   "metadata": {},
   "outputs": [
    {
     "data": {
      "text/plain": [
       "((array([-1.84569542, -1.41352783, -1.14765351, -0.94487504, -0.77501005,\n",
       "         -0.62504005, -0.48799157, -0.35957249, -0.23684388, -0.11759451,\n",
       "          0.        ,  0.11759451,  0.23684388,  0.35957249,  0.48799157,\n",
       "          0.62504005,  0.77501005,  0.94487504,  1.14765351,  1.41352783,\n",
       "          1.84569542]),\n",
       "  array([1.  , 1.  , 1.  , 1.  , 1.  , 1.  , 1.  , 1.25, 1.25, 1.25, 1.25,\n",
       "         1.25, 1.25, 1.5 , 1.5 , 1.5 , 1.5 , 1.75, 2.  , 2.  , 2.25])),\n",
       " (0.36551543042296925, 1.3571428571428572, 0.9254387151255364))"
      ]
     },
     "execution_count": 158,
     "metadata": {},
     "output_type": "execute_result"
    },
    {
     "data": {
      "image/png": "[encoded data removed]",
      "text/plain": [
       "<Figure size 640x480 with 1 Axes>"
      ]
     },
     "metadata": {},
     "output_type": "display_data"
    }
   ],
   "source": [
    "stats.probplot(tinyllama_simple, dist=\"norm\", plot=plt)"
   ]
  },
  {
   "cell_type": "code",
   "execution_count": 159,
   "metadata": {},
   "outputs": [
    {
     "data": {
      "text/plain": [
       "ShapiroResult(statistic=0.9416245204146176, pvalue=0.23459611852539386)"
      ]
     },
     "execution_count": 159,
     "metadata": {},
     "output_type": "execute_result"
    }
   ],
   "source": [
    "stats.shapiro(tinyllama_complex)"
   ]
  },
  {
   "cell_type": "code",
   "execution_count": 160,
   "metadata": {},
   "outputs": [
    {
     "data": {
      "text/plain": [
       "((array([-1.84569542, -1.41352783, -1.14765351, -0.94487504, -0.77501005,\n",
       "         -0.62504005, -0.48799157, -0.35957249, -0.23684388, -0.11759451,\n",
       "          0.        ,  0.11759451,  0.23684388,  0.35957249,  0.48799157,\n",
       "          0.62504005,  0.77501005,  0.94487504,  1.14765351,  1.41352783,\n",
       "          1.84569542]),\n",
       "  array([1.  , 1.  , 1.5 , 2.  , 2.  , 2.  , 2.  , 2.25, 2.25, 2.25, 2.25,\n",
       "         2.5 , 2.75, 2.75, 2.75, 2.75, 2.75, 3.25, 3.25, 3.25, 3.5 ])),\n",
       " (0.7037208882147289, 2.380952380952381, 0.9734335542442006))"
      ]
     },
     "execution_count": 160,
     "metadata": {},
     "output_type": "execute_result"
    },
    {
     "data": {
      "image/png": "[encoded data removed]",
      "text/plain": [
       "<Figure size 640x480 with 1 Axes>"
      ]
     },
     "metadata": {},
     "output_type": "display_data"
    }
   ],
   "source": [
    "stats.probplot(tinyllama_complex, dist=\"norm\", plot=plt)"
   ]
  },
  {
   "cell_type": "markdown",
   "metadata": {},
   "source": [
    "### Wilcoxon Signed-Rank Test for gpt distribution"
   ]
  },
  {
   "cell_type": "code",
   "execution_count": 161,
   "metadata": {},
   "outputs": [
    {
     "data": {
      "text/plain": [
       "WilcoxonResult(statistic=0.0, pvalue=9.5367431640625e-07)"
      ]
     },
     "execution_count": 161,
     "metadata": {},
     "output_type": "execute_result"
    }
   ],
   "source": [
    "stats.wilcoxon(gpt_simple, gpt_complex)"
   ]
  },
  {
   "cell_type": "markdown",
   "metadata": {},
   "source": [
    "### Wilcoxon Signed-Rank Test for llama distribution"
   ]
  },
  {
   "cell_type": "code",
   "execution_count": 162,
   "metadata": {},
   "outputs": [
    {
     "data": {
      "text/plain": [
       "WilcoxonResult(statistic=2.0, pvalue=2.86102294921875e-06)"
      ]
     },
     "execution_count": 162,
     "metadata": {},
     "output_type": "execute_result"
    }
   ],
   "source": [
    "stats.wilcoxon(llama_simple, llama_complex)"
   ]
  },
  {
   "cell_type": "markdown",
   "metadata": {},
   "source": [
    "### Wilcoxon Signed-Rank Test for tinyllama distribution"
   ]
  },
  {
   "cell_type": "code",
   "execution_count": 163,
   "metadata": {},
   "outputs": [
    {
     "data": {
      "text/plain": [
       "WilcoxonResult(statistic=1.5, pvalue=0.00010703333092589676)"
      ]
     },
     "execution_count": 163,
     "metadata": {},
     "output_type": "execute_result"
    }
   ],
   "source": [
    "stats.wilcoxon(tinyllama_simple, tinyllama_complex)"
   ]
  },
  {
   "cell_type": "code",
   "execution_count": 164,
   "metadata": {},
   "outputs": [
    {
     "data": {
      "text/plain": [
       "array([2.86102295e-06, 8.58306885e-06, 3.21099993e-04])"
      ]
     },
     "execution_count": 164,
     "metadata": {},
     "output_type": "execute_result"
    }
   ],
   "source": [
    "np.multiply([stats.wilcoxon(gpt_simple, gpt_complex)[1] , stats.wilcoxon(llama_simple, llama_complex)[1], stats.wilcoxon(tinyllama_simple, tinyllama_complex)[1]], 3)"
   ]
  },
  {
   "cell_type": "code",
   "execution_count": 165,
   "metadata": {},
   "outputs": [],
   "source": [
    "data = pd.DataFrame(\n",
    "    index=[\"gpt\", \"llama\", \"tinylllama\"],\n",
    "    columns=[\n",
    "        \"simple_mean\",\n",
    "        \"simple_median\",\n",
    "        \"complex_mean\",\n",
    "        \"complex_median\",\n",
    "        \"W Stat\",\n",
    "        \"p-value\",\n",
    "        \"$\\delta$\",\n",
    "    ],\n",
    "    data=[\n",
    "        [\n",
    "            gpt_simple.mean(),\n",
    "            gpt_simple.median(),\n",
    "            gpt_complex.mean(),\n",
    "            gpt_complex.median(),\n",
    "            stats.wilcoxon(gpt_simple, gpt_complex)[0],\n",
    "            stats.wilcoxon(gpt_simple, gpt_complex)[1] * 3,\n",
    "            cliffs_delta(gpt_simple, gpt_complex)[0],\n",
    "        ],\n",
    "        [\n",
    "            llama_simple.mean(),\n",
    "            llama_simple.median(),\n",
    "            llama_complex.mean(),\n",
    "            llama_complex.median(),\n",
    "            stats.wilcoxon(llama_simple, llama_complex)[0],\n",
    "            stats.wilcoxon(llama_simple, llama_complex)[1] * 3,\n",
    "            cliffs_delta(llama_simple, llama_complex)[0],\n",
    "        ],\n",
    "        [\n",
    "            tinyllama_simple.mean(),\n",
    "            tinyllama_simple.median(),\n",
    "            tinyllama_complex.mean(),\n",
    "            tinyllama_complex.median(),\n",
    "            stats.wilcoxon(tinyllama_simple, tinyllama_complex)[0],\n",
    "            stats.wilcoxon(tinyllama_simple, tinyllama_complex)[1] * 3,\n",
    "            cliffs_delta(tinyllama_simple, tinyllama_complex)[0],\n",
    "        ],\n",
    "    ],\n",
    ")\n",
    "data.to_latex(\"tables/rq2.tex\")"
   ]
  },
  {
   "cell_type": "code",
   "execution_count": 166,
   "metadata": {},
   "outputs": [],
   "source": [
    "count = res_t.drop(columns=\"Score\").melt(\n",
    "    id_vars=[\"Run\", \"Prompt\", \"Model\"],\n",
    "    value_vars=[\"Score1\", \"Score2\", \"Score3\", \"Score4\"],\n",
    "    var_name=\"Score_type\",\n",
    "    value_name=\"Score\",\n",
    ")\n",
    "\n",
    "count['Score'] = count['Score'].astype(str)\n",
    "count['Model+Prompt'] = count['Model'] + \" \" + count['Prompt']"
   ]
  },
  {
   "cell_type": "code",
   "execution_count": 167,
   "metadata": {},
   "outputs": [
    {
     "data": {
      "text/html": [
       "<div>\n",
       "<style scoped>\n",
       "    .dataframe tbody tr th:only-of-type {\n",
       "        vertical-align: middle;\n",
       "    }\n",
       "\n",
       "    .dataframe tbody tr th {\n",
       "        vertical-align: top;\n",
       "    }\n",
       "\n",
       "    .dataframe thead th {\n",
       "        text-align: right;\n",
       "    }\n",
       "</style>\n",
       "<table border=\"1\" class=\"dataframe\">\n",
       "  <thead>\n",
       "    <tr style=\"text-align: right;\">\n",
       "      <th></th>\n",
       "      <th>Run</th>\n",
       "      <th>Prompt</th>\n",
       "      <th>Model</th>\n",
       "      <th>Score_type</th>\n",
       "      <th>Score</th>\n",
       "      <th>Model+Prompt</th>\n",
       "    </tr>\n",
       "  </thead>\n",
       "  <tbody>\n",
       "    <tr>\n",
       "      <th>0</th>\n",
       "      <td>Run1</td>\n",
       "      <td>simple</td>\n",
       "      <td>gpt</td>\n",
       "      <td>Score1</td>\n",
       "      <td>2.0</td>\n",
       "      <td>gpt simple</td>\n",
       "    </tr>\n",
       "    <tr>\n",
       "      <th>1</th>\n",
       "      <td>Run1</td>\n",
       "      <td>simple</td>\n",
       "      <td>llama</td>\n",
       "      <td>Score1</td>\n",
       "      <td>4.0</td>\n",
       "      <td>llama simple</td>\n",
       "    </tr>\n",
       "    <tr>\n",
       "      <th>2</th>\n",
       "      <td>Run1</td>\n",
       "      <td>simple</td>\n",
       "      <td>tiny</td>\n",
       "      <td>Score1</td>\n",
       "      <td>1.0</td>\n",
       "      <td>tiny simple</td>\n",
       "    </tr>\n",
       "    <tr>\n",
       "      <th>3</th>\n",
       "      <td>Run1</td>\n",
       "      <td>complex</td>\n",
       "      <td>tiny</td>\n",
       "      <td>Score1</td>\n",
       "      <td>1.0</td>\n",
       "      <td>tiny complex</td>\n",
       "    </tr>\n",
       "    <tr>\n",
       "      <th>4</th>\n",
       "      <td>Run1</td>\n",
       "      <td>complex</td>\n",
       "      <td>gpt</td>\n",
       "      <td>Score1</td>\n",
       "      <td>5.0</td>\n",
       "      <td>gpt complex</td>\n",
       "    </tr>\n",
       "    <tr>\n",
       "      <th>...</th>\n",
       "      <td>...</td>\n",
       "      <td>...</td>\n",
       "      <td>...</td>\n",
       "      <td>...</td>\n",
       "      <td>...</td>\n",
       "      <td>...</td>\n",
       "    </tr>\n",
       "    <tr>\n",
       "      <th>499</th>\n",
       "      <td>Run3</td>\n",
       "      <td>simple</td>\n",
       "      <td>tiny</td>\n",
       "      <td>Score4</td>\n",
       "      <td>1.0</td>\n",
       "      <td>tiny simple</td>\n",
       "    </tr>\n",
       "    <tr>\n",
       "      <th>500</th>\n",
       "      <td>Run3</td>\n",
       "      <td>simple</td>\n",
       "      <td>gpt</td>\n",
       "      <td>Score4</td>\n",
       "      <td>3.0</td>\n",
       "      <td>gpt simple</td>\n",
       "    </tr>\n",
       "    <tr>\n",
       "      <th>501</th>\n",
       "      <td>Run3</td>\n",
       "      <td>complex</td>\n",
       "      <td>tiny</td>\n",
       "      <td>Score4</td>\n",
       "      <td>1.0</td>\n",
       "      <td>tiny complex</td>\n",
       "    </tr>\n",
       "    <tr>\n",
       "      <th>502</th>\n",
       "      <td>Run3</td>\n",
       "      <td>complex</td>\n",
       "      <td>gpt</td>\n",
       "      <td>Score4</td>\n",
       "      <td>2.0</td>\n",
       "      <td>gpt complex</td>\n",
       "    </tr>\n",
       "    <tr>\n",
       "      <th>503</th>\n",
       "      <td>Run3</td>\n",
       "      <td>complex</td>\n",
       "      <td>llama</td>\n",
       "      <td>Score4</td>\n",
       "      <td>3.0</td>\n",
       "      <td>llama complex</td>\n",
       "    </tr>\n",
       "  </tbody>\n",
       "</table>\n",
       "<p>504 rows × 6 columns</p>\n",
       "</div>"
      ],
      "text/plain": [
       "      Run   Prompt  Model Score_type Score   Model+Prompt\n",
       "0    Run1   simple    gpt     Score1   2.0     gpt simple\n",
       "1    Run1   simple  llama     Score1   4.0   llama simple\n",
       "2    Run1   simple   tiny     Score1   1.0    tiny simple\n",
       "3    Run1  complex   tiny     Score1   1.0   tiny complex\n",
       "4    Run1  complex    gpt     Score1   5.0    gpt complex\n",
       "..    ...      ...    ...        ...   ...            ...\n",
       "499  Run3   simple   tiny     Score4   1.0    tiny simple\n",
       "500  Run3   simple    gpt     Score4   3.0     gpt simple\n",
       "501  Run3  complex   tiny     Score4   1.0   tiny complex\n",
       "502  Run3  complex    gpt     Score4   2.0    gpt complex\n",
       "503  Run3  complex  llama     Score4   3.0  llama complex\n",
       "\n",
       "[504 rows x 6 columns]"
      ]
     },
     "execution_count": 167,
     "metadata": {},
     "output_type": "execute_result"
    }
   ],
   "source": [
    "count"
   ]
  },
  {
   "cell_type": "code",
   "execution_count": 168,
   "metadata": {},
   "outputs": [
    {
     "name": "stderr",
     "output_type": "stream",
     "text": [
      "/Users/giord/miniconda3/envs/xquantum/lib/python3.10/site-packages/seaborn/_oldcore.py:1119: FutureWarning: use_inf_as_na option is deprecated and will be removed in a future version. Convert inf values to NaN before operating instead.\n",
      "  with pd.option_context('mode.use_inf_as_na', True):\n",
      "/Users/giord/miniconda3/envs/xquantum/lib/python3.10/site-packages/seaborn/_oldcore.py:1075: FutureWarning: When grouping with a length-1 list-like, you will need to pass a length-1 tuple to get_group in a future version of pandas. Pass `(name,)` instead of `name` to silence this warning.\n",
      "  data_subset = grouped_data.get_group(pd_key)\n",
      "/Users/giord/miniconda3/envs/xquantum/lib/python3.10/site-packages/seaborn/_oldcore.py:1075: FutureWarning: When grouping with a length-1 list-like, you will need to pass a length-1 tuple to get_group in a future version of pandas. Pass `(name,)` instead of `name` to silence this warning.\n",
      "  data_subset = grouped_data.get_group(pd_key)\n",
      "/Users/giord/miniconda3/envs/xquantum/lib/python3.10/site-packages/seaborn/_oldcore.py:1075: FutureWarning: When grouping with a length-1 list-like, you will need to pass a length-1 tuple to get_group in a future version of pandas. Pass `(name,)` instead of `name` to silence this warning.\n",
      "  data_subset = grouped_data.get_group(pd_key)\n",
      "/Users/giord/miniconda3/envs/xquantum/lib/python3.10/site-packages/seaborn/_oldcore.py:1075: FutureWarning: When grouping with a length-1 list-like, you will need to pass a length-1 tuple to get_group in a future version of pandas. Pass `(name,)` instead of `name` to silence this warning.\n",
      "  data_subset = grouped_data.get_group(pd_key)\n",
      "/Users/giord/miniconda3/envs/xquantum/lib/python3.10/site-packages/seaborn/_oldcore.py:1075: FutureWarning: When grouping with a length-1 list-like, you will need to pass a length-1 tuple to get_group in a future version of pandas. Pass `(name,)` instead of `name` to silence this warning.\n",
      "  data_subset = grouped_data.get_group(pd_key)\n",
      "/Users/giord/miniconda3/envs/xquantum/lib/python3.10/site-packages/seaborn/_oldcore.py:1075: FutureWarning: When grouping with a length-1 list-like, you will need to pass a length-1 tuple to get_group in a future version of pandas. Pass `(name,)` instead of `name` to silence this warning.\n",
      "  data_subset = grouped_data.get_group(pd_key)\n",
      "/Users/giord/miniconda3/envs/xquantum/lib/python3.10/site-packages/seaborn/_oldcore.py:1075: FutureWarning: When grouping with a length-1 list-like, you will need to pass a length-1 tuple to get_group in a future version of pandas. Pass `(name,)` instead of `name` to silence this warning.\n",
      "  data_subset = grouped_data.get_group(pd_key)\n",
      "/Users/giord/miniconda3/envs/xquantum/lib/python3.10/site-packages/seaborn/_oldcore.py:1119: FutureWarning: use_inf_as_na option is deprecated and will be removed in a future version. Convert inf values to NaN before operating instead.\n",
      "  with pd.option_context('mode.use_inf_as_na', True):\n",
      "/Users/giord/miniconda3/envs/xquantum/lib/python3.10/site-packages/seaborn/_oldcore.py:1075: FutureWarning: When grouping with a length-1 list-like, you will need to pass a length-1 tuple to get_group in a future version of pandas. Pass `(name,)` instead of `name` to silence this warning.\n",
      "  data_subset = grouped_data.get_group(pd_key)\n",
      "/Users/giord/miniconda3/envs/xquantum/lib/python3.10/site-packages/seaborn/_oldcore.py:1075: FutureWarning: When grouping with a length-1 list-like, you will need to pass a length-1 tuple to get_group in a future version of pandas. Pass `(name,)` instead of `name` to silence this warning.\n",
      "  data_subset = grouped_data.get_group(pd_key)\n",
      "/Users/giord/miniconda3/envs/xquantum/lib/python3.10/site-packages/seaborn/_oldcore.py:1075: FutureWarning: When grouping with a length-1 list-like, you will need to pass a length-1 tuple to get_group in a future version of pandas. Pass `(name,)` instead of `name` to silence this warning.\n",
      "  data_subset = grouped_data.get_group(pd_key)\n",
      "/Users/giord/miniconda3/envs/xquantum/lib/python3.10/site-packages/seaborn/_oldcore.py:1075: FutureWarning: When grouping with a length-1 list-like, you will need to pass a length-1 tuple to get_group in a future version of pandas. Pass `(name,)` instead of `name` to silence this warning.\n",
      "  data_subset = grouped_data.get_group(pd_key)\n",
      "/Users/giord/miniconda3/envs/xquantum/lib/python3.10/site-packages/seaborn/_oldcore.py:1075: FutureWarning: When grouping with a length-1 list-like, you will need to pass a length-1 tuple to get_group in a future version of pandas. Pass `(name,)` instead of `name` to silence this warning.\n",
      "  data_subset = grouped_data.get_group(pd_key)\n",
      "/Users/giord/miniconda3/envs/xquantum/lib/python3.10/site-packages/seaborn/_oldcore.py:1075: FutureWarning: When grouping with a length-1 list-like, you will need to pass a length-1 tuple to get_group in a future version of pandas. Pass `(name,)` instead of `name` to silence this warning.\n",
      "  data_subset = grouped_data.get_group(pd_key)\n",
      "/Users/giord/miniconda3/envs/xquantum/lib/python3.10/site-packages/seaborn/_oldcore.py:1075: FutureWarning: When grouping with a length-1 list-like, you will need to pass a length-1 tuple to get_group in a future version of pandas. Pass `(name,)` instead of `name` to silence this warning.\n",
      "  data_subset = grouped_data.get_group(pd_key)\n",
      "/Users/giord/miniconda3/envs/xquantum/lib/python3.10/site-packages/seaborn/_oldcore.py:1119: FutureWarning: use_inf_as_na option is deprecated and will be removed in a future version. Convert inf values to NaN before operating instead.\n",
      "  with pd.option_context('mode.use_inf_as_na', True):\n",
      "/Users/giord/miniconda3/envs/xquantum/lib/python3.10/site-packages/seaborn/_oldcore.py:1075: FutureWarning: When grouping with a length-1 list-like, you will need to pass a length-1 tuple to get_group in a future version of pandas. Pass `(name,)` instead of `name` to silence this warning.\n",
      "  data_subset = grouped_data.get_group(pd_key)\n",
      "/Users/giord/miniconda3/envs/xquantum/lib/python3.10/site-packages/seaborn/_oldcore.py:1075: FutureWarning: When grouping with a length-1 list-like, you will need to pass a length-1 tuple to get_group in a future version of pandas. Pass `(name,)` instead of `name` to silence this warning.\n",
      "  data_subset = grouped_data.get_group(pd_key)\n",
      "/Users/giord/miniconda3/envs/xquantum/lib/python3.10/site-packages/seaborn/_oldcore.py:1075: FutureWarning: When grouping with a length-1 list-like, you will need to pass a length-1 tuple to get_group in a future version of pandas. Pass `(name,)` instead of `name` to silence this warning.\n",
      "  data_subset = grouped_data.get_group(pd_key)\n",
      "/Users/giord/miniconda3/envs/xquantum/lib/python3.10/site-packages/seaborn/_oldcore.py:1075: FutureWarning: When grouping with a length-1 list-like, you will need to pass a length-1 tuple to get_group in a future version of pandas. Pass `(name,)` instead of `name` to silence this warning.\n",
      "  data_subset = grouped_data.get_group(pd_key)\n",
      "/Users/giord/miniconda3/envs/xquantum/lib/python3.10/site-packages/seaborn/_oldcore.py:1075: FutureWarning: When grouping with a length-1 list-like, you will need to pass a length-1 tuple to get_group in a future version of pandas. Pass `(name,)` instead of `name` to silence this warning.\n",
      "  data_subset = grouped_data.get_group(pd_key)\n",
      "/Users/giord/miniconda3/envs/xquantum/lib/python3.10/site-packages/seaborn/_oldcore.py:1075: FutureWarning: When grouping with a length-1 list-like, you will need to pass a length-1 tuple to get_group in a future version of pandas. Pass `(name,)` instead of `name` to silence this warning.\n",
      "  data_subset = grouped_data.get_group(pd_key)\n",
      "/Users/giord/miniconda3/envs/xquantum/lib/python3.10/site-packages/seaborn/_oldcore.py:1075: FutureWarning: When grouping with a length-1 list-like, you will need to pass a length-1 tuple to get_group in a future version of pandas. Pass `(name,)` instead of `name` to silence this warning.\n",
      "  data_subset = grouped_data.get_group(pd_key)\n"
     ]
    },
    {
     "data": {
      "image/png": "[encoded data removed]",
      "text/plain": [
       "<Figure size 500x300 with 1 Axes>"
      ]
     },
     "metadata": {},
     "output_type": "display_data"
    }
   ],
   "source": [
    "fig, ax = plt.subplots(figsize=(5, 3))\n",
    "\n",
    "count[\"Model+Prompt\"] = pd.Categorical(\n",
    "    count[\"Model+Prompt\"],\n",
    "    [\n",
    "        \"gpt simple\",\n",
    "        \"gpt complex\",\n",
    "        \"\",\n",
    "        \"llama simple\",\n",
    "        \"llama complex\",\n",
    "        \" \",\n",
    "        \"tiny simple\",\n",
    "        \"tiny complex\",\n",
    "        \"  \",\n",
    "    ],\n",
    ")\n",
    "\n",
    "ax = sns.histplot(\n",
    "    data=count[\n",
    "        (count[\"Model+Prompt\"] == \"gpt simple\")\n",
    "        | (count[\"Model+Prompt\"] == \"gpt complex\")\n",
    "    ],\n",
    "    y=\"Model+Prompt\",\n",
    "    hue=\"Score\",\n",
    "    multiple=\"stack\",\n",
    "    palette=\"coolwarm\",\n",
    "    hue_order=[\"5.0\", \"4.0\", \"3.0\", \"2.0\", \"1.0\"],\n",
    "    alpha=1,\n",
    ")\n",
    "\n",
    "ax1 = sns.histplot(\n",
    "    data=count[\n",
    "        (count[\"Model+Prompt\"] == \"llama simple\")\n",
    "        | (count[\"Model+Prompt\"] == \"llama complex\")\n",
    "    ],\n",
    "    y=\"Model+Prompt\",\n",
    "    hue=\"Score\",\n",
    "    multiple=\"stack\",\n",
    "    palette=\"coolwarm\",\n",
    "    hue_order=[\"5.0\", \"4.0\", \"3.0\", \"2.0\", \"1.0\"],\n",
    "    alpha=1\n",
    ")\n",
    "\n",
    "\n",
    "ax2 = sns.histplot(\n",
    "    data=count[\n",
    "        (count[\"Model+Prompt\"] == \"tiny simple\")\n",
    "        | (count[\"Model+Prompt\"] == \"tiny complex\")\n",
    "    ],\n",
    "    y=\"Model+Prompt\",\n",
    "    hue=\"Score\",\n",
    "    multiple=\"stack\",\n",
    "    palette=\"coolwarm\",\n",
    "    hue_order=[\"5.0\", \"4.0\", \"3.0\", \"2.0\", \"1.0\"],\n",
    "    alpha=1,\n",
    ")\n",
    "\n",
    "plt.xlabel(\"Number of scores\")\n",
    "plt.ylabel(\"\")\n",
    "plt.yticks(\n",
    "    ticks=[0, 1, 2, 3, 4, 5, 6, 7, 8],  # Aggiungi un tick in più\n",
    "    labels=[\n",
    "        \"Gpt Not Aware\",\n",
    "        \"Gpt Aware\",\n",
    "        \"\",  # Aggiungi un'etichetta vuota per lo spazio extra\n",
    "        \"Llama2 Not Aware\",\n",
    "        \"Llama2 Aware\",\n",
    "        \"\",  # Aggiungi un'etichetta vuota per lo spazio extra\n",
    "        \"Tinyllama Not Aware\",\n",
    "        \"Tinyllama Aware\",\n",
    "        \"\",  # Aggiungi un'etichetta vuota per lo spazio extra\n",
    "    ],\n",
    ")\n",
    "sns.move_legend(ax, \"upper left\", bbox_to_anchor=(1, 1))\n",
    "# add space between tick 1 and 2\n",
    "plt.savefig(\"figures/rq2_dist.pdf\", bbox_inches=\"tight\")\n",
    "plt.show()"
   ]
  },
  {
   "cell_type": "code",
   "execution_count": 169,
   "metadata": {},
   "outputs": [
    {
     "data": {
      "text/plain": [
       "0         gpt simple\n",
       "1       llama simple\n",
       "2        tiny simple\n",
       "3       tiny complex\n",
       "4        gpt complex\n",
       "           ...      \n",
       "499      tiny simple\n",
       "500       gpt simple\n",
       "501     tiny complex\n",
       "502      gpt complex\n",
       "503    llama complex\n",
       "Name: Model+Prompt, Length: 504, dtype: category\n",
       "Categories (9, object): ['gpt simple', 'gpt complex', '', 'llama simple', ..., ' ', 'tiny simple', 'tiny complex', '  ']"
      ]
     },
     "execution_count": 169,
     "metadata": {},
     "output_type": "execute_result"
    }
   ],
   "source": [
    "count[\"Model+Prompt\"]"
   ]
  },
  {
   "cell_type": "markdown",
   "metadata": {},
   "source": [
    "## RQ 3"
   ]
  },
  {
   "cell_type": "code",
   "execution_count": 170,
   "metadata": {},
   "outputs": [],
   "source": [
    "rq3 = res_t.pivot_table(columns=[\"Model\", \"Prompt\", \"Run\"], values=[\"Score\"], aggfunc=\"mean\")"
   ]
  },
  {
   "cell_type": "code",
   "execution_count": 171,
   "metadata": {},
   "outputs": [
    {
     "data": {
      "image/png": "[encoded data removed]",
      "text/plain": [
       "<Figure size 895.2x400 with 2 Axes>"
      ]
     },
     "metadata": {},
     "output_type": "display_data"
    }
   ],
   "source": [
    "grid = sns.catplot(\n",
    "    data=rq3.aggregate(\"mean\").reset_index(),\n",
    "    x=\"Model\",\n",
    "    y=0,\n",
    "    hue=\"Run\",\n",
    "    col=\"Prompt\",\n",
    "    kind=\"bar\",\n",
    "    height=4,\n",
    "    palette=\"Greys\",\n",
    ")\n",
    "grid.set_axis_labels(\"\", \"Mean Score\")\n",
    "\n",
    "# show values on top of bars\n",
    "for ax in grid.axes.flat:\n",
    "    for p in ax.patches:\n",
    "        if not p.get_height()==0.0:\n",
    "            ax.annotate(\n",
    "                f\"{p.get_height():.2f}\",\n",
    "                (p.get_x() + p.get_width() / 2, p.get_height()),\n",
    "                ha=\"center\",\n",
    "                va=\"center\",\n",
    "                xytext=(0, 5),\n",
    "                textcoords=\"offset points\",\n",
    "            )\n",
    "sns.move_legend(grid, \"lower center\", ncol=3, frameon=True, bbox_to_anchor=(0.5, -0.12))\n",
    "grid.set_xticklabels([\"gpt3.5\", \"llama2\", \"tinyllama\"])\n",
    "plt.tight_layout()\n",
    "plt.savefig(\"figures/rq3.pdf\", bbox_inches=\"tight\")"
   ]
  },
  {
   "cell_type": "markdown",
   "metadata": {},
   "source": [
    "### Statistical Test"
   ]
  },
  {
   "cell_type": "markdown",
   "metadata": {},
   "source": [
    "#### GPT"
   ]
  },
  {
   "cell_type": "code",
   "execution_count": 172,
   "metadata": {},
   "outputs": [],
   "source": [
    "gpt1_s = res_t[\n",
    "    (res_t[\"Model\"] == \"gpt\")\n",
    "    & (res_t[\"Prompt\"] == \"simple\")\n",
    "    & (res_t[\"Run\"] == \"Run1\")\n",
    "][\"Score\"]\n",
    "\n",
    "gpt2_s = res_t[\n",
    "    (res_t[\"Model\"] == \"gpt\") & (res_t[\"Prompt\"] == \"simple\") & (res_t[\"Run\"] == \"Run2\")\n",
    "][\"Score\"]\n",
    "\n",
    "gpt3_s = res_t[\n",
    "    (res_t[\"Model\"] == \"gpt\") & (res_t[\"Prompt\"] == \"simple\") & (res_t[\"Run\"] == \"Run3\")\n",
    "][\"Score\"]"
   ]
  },
  {
   "cell_type": "code",
   "execution_count": 173,
   "metadata": {},
   "outputs": [
    {
     "data": {
      "text/plain": [
       "ShapiroResult(statistic=0.9202476025992193, pvalue=0.47131835286954893)"
      ]
     },
     "execution_count": 173,
     "metadata": {},
     "output_type": "execute_result"
    }
   ],
   "source": [
    "stats.shapiro(gpt1_s)"
   ]
  },
  {
   "cell_type": "code",
   "execution_count": 174,
   "metadata": {},
   "outputs": [
    {
     "data": {
      "text/plain": [
       "ShapiroResult(statistic=0.8180887757529729, pvalue=0.061550147978133345)"
      ]
     },
     "execution_count": 174,
     "metadata": {},
     "output_type": "execute_result"
    }
   ],
   "source": [
    "stats.shapiro(gpt2_s)"
   ]
  },
  {
   "cell_type": "code",
   "execution_count": 175,
   "metadata": {},
   "outputs": [
    {
     "data": {
      "text/plain": [
       "ShapiroResult(statistic=0.8333845641645437, pvalue=0.08613669465637135)"
      ]
     },
     "execution_count": 175,
     "metadata": {},
     "output_type": "execute_result"
    }
   ],
   "source": [
    "stats.shapiro(gpt3_s)"
   ]
  },
  {
   "cell_type": "code",
   "execution_count": 176,
   "metadata": {},
   "outputs": [
    {
     "data": {
      "text/plain": [
       "KruskalResult(statistic=3.5585138088615196, pvalue=0.1687635081004064)"
      ]
     },
     "execution_count": 176,
     "metadata": {},
     "output_type": "execute_result"
    }
   ],
   "source": [
    "stats.kruskal(gpt1_s, gpt2_s, gpt3_s)"
   ]
  },
  {
   "cell_type": "code",
   "execution_count": 177,
   "metadata": {},
   "outputs": [],
   "source": [
    "gpt1_c = res_t[\n",
    "    (res_t[\"Model\"] == \"gpt\")\n",
    "    & (res_t[\"Prompt\"] == \"complex\")\n",
    "    & (res_t[\"Run\"] == \"Run1\")\n",
    "][\"Score\"]\n",
    "\n",
    "gpt2_c = res_t[\n",
    "    (res_t[\"Model\"] == \"gpt\") & (res_t[\"Prompt\"] == \"complex\") & (res_t[\"Run\"] == \"Run2\")\n",
    "][\"Score\"]\n",
    "\n",
    "gpt3_c = res_t[\n",
    "    (res_t[\"Model\"] == \"gpt\") & (res_t[\"Prompt\"] == \"complex\") & (res_t[\"Run\"] == \"Run3\")\n",
    "][\"Score\"]"
   ]
  },
  {
   "cell_type": "code",
   "execution_count": 178,
   "metadata": {},
   "outputs": [
    {
     "data": {
      "text/plain": [
       "ShapiroResult(statistic=0.9390478359216043, pvalue=0.6301591986192884)"
      ]
     },
     "execution_count": 178,
     "metadata": {},
     "output_type": "execute_result"
    }
   ],
   "source": [
    "stats.shapiro(gpt1_c)"
   ]
  },
  {
   "cell_type": "code",
   "execution_count": 179,
   "metadata": {},
   "outputs": [
    {
     "data": {
      "text/plain": [
       "ShapiroResult(statistic=0.9197901633247106, pvalue=0.467763713015455)"
      ]
     },
     "execution_count": 179,
     "metadata": {},
     "output_type": "execute_result"
    }
   ],
   "source": [
    "stats.shapiro(gpt2_c)"
   ]
  },
  {
   "cell_type": "code",
   "execution_count": 180,
   "metadata": {},
   "outputs": [
    {
     "data": {
      "text/plain": [
       "ShapiroResult(statistic=0.8180887757529729, pvalue=0.061550147978133345)"
      ]
     },
     "execution_count": 180,
     "metadata": {},
     "output_type": "execute_result"
    }
   ],
   "source": [
    "stats.shapiro(gpt3_c)"
   ]
  },
  {
   "cell_type": "code",
   "execution_count": 181,
   "metadata": {},
   "outputs": [
    {
     "data": {
      "text/plain": [
       "KruskalResult(statistic=2.4791626284163777, pvalue=0.28950540436722366)"
      ]
     },
     "execution_count": 181,
     "metadata": {},
     "output_type": "execute_result"
    }
   ],
   "source": [
    "stats.kruskal(gpt1_c, gpt2_c, gpt3_c)"
   ]
  },
  {
   "cell_type": "markdown",
   "metadata": {},
   "source": [
    "#### LLAMA"
   ]
  },
  {
   "cell_type": "code",
   "execution_count": 213,
   "metadata": {},
   "outputs": [],
   "source": [
    "llama1_c = res_t[\n",
    "    (res_t[\"Model\"] == \"llama\")\n",
    "    & (res_t[\"Prompt\"] == \"complex\")\n",
    "    & (res_t[\"Run\"] == \"Run1\")\n",
    "][\"Score\"]\n",
    "\n",
    "llama2_c = res_t[\n",
    "    (res_t[\"Model\"] == \"llama\") & (res_t[\"Prompt\"] == \"complex\") & (res_t[\"Run\"] == \"Run2\")\n",
    "][\"Score\"]\n",
    "\n",
    "llama3_c = res_t[\n",
    "    (res_t[\"Model\"] == \"llama\") & (res_t[\"Prompt\"] == \"complex\") & (res_t[\"Run\"] == \"Run3\")\n",
    "][\"Score\"]"
   ]
  },
  {
   "cell_type": "code",
   "execution_count": 214,
   "metadata": {},
   "outputs": [
    {
     "data": {
      "text/plain": [
       "ShapiroResult(statistic=0.810770490809439, pvalue=0.05226521648375003)"
      ]
     },
     "execution_count": 214,
     "metadata": {},
     "output_type": "execute_result"
    }
   ],
   "source": [
    "stats.shapiro(llama1_c)"
   ]
  },
  {
   "cell_type": "code",
   "execution_count": 215,
   "metadata": {},
   "outputs": [
    {
     "data": {
      "text/plain": [
       "ShapiroResult(statistic=0.8585659395402375, pvalue=0.1469708548930031)"
      ]
     },
     "execution_count": 215,
     "metadata": {},
     "output_type": "execute_result"
    }
   ],
   "source": [
    "stats.shapiro(llama2_c)"
   ]
  },
  {
   "cell_type": "code",
   "execution_count": 216,
   "metadata": {},
   "outputs": [
    {
     "data": {
      "text/plain": [
       "ShapiroResult(statistic=0.9222174366916898, pvalue=0.4868164506502304)"
      ]
     },
     "execution_count": 216,
     "metadata": {},
     "output_type": "execute_result"
    }
   ],
   "source": [
    "stats.shapiro(llama3_c)"
   ]
  },
  {
   "cell_type": "code",
   "execution_count": 217,
   "metadata": {},
   "outputs": [
    {
     "data": {
      "text/plain": [
       "KruskalResult(statistic=5.048393341076273, pvalue=0.08012265182731258)"
      ]
     },
     "execution_count": 217,
     "metadata": {},
     "output_type": "execute_result"
    }
   ],
   "source": [
    "stats.kruskal(llama1_c, llama2_c, llama3_c)"
   ]
  },
  {
   "cell_type": "code",
   "execution_count": 218,
   "metadata": {},
   "outputs": [],
   "source": [
    "llama1_s = res_t[\n",
    "    (res_t[\"Model\"] == \"llama\")\n",
    "    & (res_t[\"Prompt\"] == \"simple\")\n",
    "    & (res_t[\"Run\"] == \"Run1\")\n",
    "][\"Score\"]\n",
    "\n",
    "llama2_s = res_t[\n",
    "    (res_t[\"Model\"] == \"llama\") & (res_t[\"Prompt\"] == \"simple\") & (res_t[\"Run\"] == \"Run2\")\n",
    "][\"Score\"]\n",
    "\n",
    "llama3_s = res_t[\n",
    "    (res_t[\"Model\"] == \"llama\") & (res_t[\"Prompt\"] == \"simple\") & (res_t[\"Run\"] == \"Run3\")\n",
    "][\"Score\"]"
   ]
  },
  {
   "cell_type": "code",
   "execution_count": 219,
   "metadata": {},
   "outputs": [
    {
     "data": {
      "text/plain": [
       "ShapiroResult(statistic=0.8808910124677423, pvalue=0.23043263529734154)"
      ]
     },
     "execution_count": 219,
     "metadata": {},
     "output_type": "execute_result"
    }
   ],
   "source": [
    "stats.shapiro(llama1_s)"
   ]
  },
  {
   "cell_type": "code",
   "execution_count": 220,
   "metadata": {},
   "outputs": [
    {
     "data": {
      "text/plain": [
       "ShapiroResult(statistic=0.6003990298280553, pvalue=0.0002751787013147552)"
      ]
     },
     "execution_count": 220,
     "metadata": {},
     "output_type": "execute_result"
    }
   ],
   "source": [
    "stats.shapiro(llama2_s)"
   ]
  },
  {
   "cell_type": "code",
   "execution_count": 221,
   "metadata": {},
   "outputs": [
    {
     "data": {
      "text/plain": [
       "ShapiroResult(statistic=0.8693003412510614, pvalue=0.18302792575851945)"
      ]
     },
     "execution_count": 221,
     "metadata": {},
     "output_type": "execute_result"
    }
   ],
   "source": [
    "stats.shapiro(llama3_s)"
   ]
  },
  {
   "cell_type": "code",
   "execution_count": 222,
   "metadata": {},
   "outputs": [
    {
     "data": {
      "text/plain": [
       "KruskalResult(statistic=1.331953071083522, pvalue=0.5137715664600289)"
      ]
     },
     "execution_count": 222,
     "metadata": {},
     "output_type": "execute_result"
    }
   ],
   "source": [
    "stats.kruskal(llama1_s, llama2_s, llama3_s)"
   ]
  },
  {
   "cell_type": "markdown",
   "metadata": {},
   "source": [
    "#### TinyLLAMA"
   ]
  },
  {
   "cell_type": "code",
   "execution_count": 223,
   "metadata": {},
   "outputs": [],
   "source": [
    "tiny1_c = res_t[\n",
    "    (res_t[\"Model\"] == \"tiny\")\n",
    "    & (res_t[\"Prompt\"] == \"complex\")\n",
    "    & (res_t[\"Run\"] == \"Run1\")\n",
    "][\"Score\"]\n",
    "\n",
    "tiny2_c = res_t[\n",
    "    (res_t[\"Model\"] == \"tiny\") & (res_t[\"Prompt\"] == \"complex\") & (res_t[\"Run\"] == \"Run2\")\n",
    "][\"Score\"]\n",
    "\n",
    "tiny3_c = res_t[\n",
    "    (res_t[\"Model\"] == \"tiny\") & (res_t[\"Prompt\"] == \"complex\") & (res_t[\"Run\"] == \"Run3\")\n",
    "][\"Score\"]"
   ]
  },
  {
   "cell_type": "code",
   "execution_count": 224,
   "metadata": {},
   "outputs": [
    {
     "data": {
      "text/plain": [
       "ShapiroResult(statistic=0.7818608985050479, pvalue=0.02697561301354718)"
      ]
     },
     "execution_count": 224,
     "metadata": {},
     "output_type": "execute_result"
    }
   ],
   "source": [
    "stats.shapiro(tiny1_c)"
   ]
  },
  {
   "cell_type": "code",
   "execution_count": 225,
   "metadata": {},
   "outputs": [
    {
     "data": {
      "text/plain": [
       "ShapiroResult(statistic=0.8927231700504343, pvalue=0.2891716366486139)"
      ]
     },
     "execution_count": 225,
     "metadata": {},
     "output_type": "execute_result"
    }
   ],
   "source": [
    "stats.shapiro(tiny2_c)"
   ]
  },
  {
   "cell_type": "code",
   "execution_count": 226,
   "metadata": {},
   "outputs": [
    {
     "data": {
      "text/plain": [
       "ShapiroResult(statistic=0.9419167262356124, pvalue=0.6560406554251688)"
      ]
     },
     "execution_count": 226,
     "metadata": {},
     "output_type": "execute_result"
    }
   ],
   "source": [
    "stats.shapiro(tiny3_c)"
   ]
  },
  {
   "cell_type": "code",
   "execution_count": 227,
   "metadata": {},
   "outputs": [
    {
     "data": {
      "text/plain": [
       "KruskalResult(statistic=0.2809364548495063, pvalue=0.8689512733138968)"
      ]
     },
     "execution_count": 227,
     "metadata": {},
     "output_type": "execute_result"
    }
   ],
   "source": [
    "stats.kruskal(tiny1_c, tiny2_c, tiny3_c)"
   ]
  },
  {
   "cell_type": "code",
   "execution_count": 228,
   "metadata": {},
   "outputs": [],
   "source": [
    "tiny1_s = res_t[\n",
    "    (res_t[\"Model\"] == \"tiny\")\n",
    "    & (res_t[\"Prompt\"] == \"simple\")\n",
    "    & (res_t[\"Run\"] == \"Run1\")\n",
    "][\"Score\"]\n",
    "\n",
    "tiny2_s = res_t[\n",
    "    (res_t[\"Model\"] == \"tiny\") & (res_t[\"Prompt\"] == \"simple\") & (res_t[\"Run\"] == \"Run2\")\n",
    "][\"Score\"]\n",
    "\n",
    "tiny3_s = res_t[\n",
    "    (res_t[\"Model\"] == \"tiny\") & (res_t[\"Prompt\"] == \"simple\") & (res_t[\"Run\"] == \"Run3\")\n",
    "][\"Score\"]"
   ]
  },
  {
   "cell_type": "code",
   "execution_count": 229,
   "metadata": {},
   "outputs": [
    {
     "data": {
      "text/plain": [
       "ShapiroResult(statistic=0.8931814966404188, pvalue=0.2916735077550582)"
      ]
     },
     "execution_count": 229,
     "metadata": {},
     "output_type": "execute_result"
    }
   ],
   "source": [
    "stats.shapiro(tiny1_s)"
   ]
  },
  {
   "cell_type": "code",
   "execution_count": 230,
   "metadata": {},
   "outputs": [
    {
     "data": {
      "text/plain": [
       "ShapiroResult(statistic=0.8877086631182824, pvalue=0.2629231696569212)"
      ]
     },
     "execution_count": 230,
     "metadata": {},
     "output_type": "execute_result"
    }
   ],
   "source": [
    "stats.shapiro(tiny2_s)"
   ]
  },
  {
   "cell_type": "code",
   "execution_count": 231,
   "metadata": {},
   "outputs": [
    {
     "data": {
      "text/plain": [
       "ShapiroResult(statistic=0.749640746600885, pvalue=0.012578565610532373)"
      ]
     },
     "execution_count": 231,
     "metadata": {},
     "output_type": "execute_result"
    }
   ],
   "source": [
    "stats.shapiro(tiny3_s)"
   ]
  },
  {
   "cell_type": "code",
   "execution_count": 232,
   "metadata": {},
   "outputs": [
    {
     "data": {
      "text/plain": [
       "KruskalResult(statistic=1.4444665209616552, pvalue=0.48566642430653717)"
      ]
     },
     "execution_count": 232,
     "metadata": {},
     "output_type": "execute_result"
    }
   ],
   "source": [
    "stats.kruskal(tiny1_s, tiny2_s, tiny3_s)"
   ]
  },
  {
   "cell_type": "code",
   "execution_count": 236,
   "metadata": {},
   "outputs": [],
   "source": [
    "pd.DataFrame(\n",
    "    index=[\n",
    "        \"gpt_round1\",\n",
    "        \"gpt_round2\",\n",
    "        \"gpt_round3\",\n",
    "        \"llama_round1\",\n",
    "        \"llama_round2\",\n",
    "        \"llama_round3\",\n",
    "        \"tiny_round1\",\n",
    "        \"tiny_round2\",\n",
    "        \"tiny_round3\",\n",
    "    ],\n",
    "    columns=[\n",
    "        \"Mean_s\",\n",
    "        \"Median-s\",\n",
    "        \"H Stat-s\",\n",
    "        \"p-value-s\",\n",
    "        \"Mean-c\",\n",
    "        \"Median-c\",\n",
    "        \"H Stat-c\",\n",
    "        \"p-value-c\",\n",
    "    ],\n",
    "    data=[\n",
    "        [\n",
    "            gpt1_s.mean(),\n",
    "            gpt1_s.median(),\n",
    "            stats.kruskal(gpt1_s, gpt2_s, gpt3_s)[0],\n",
    "            stats.kruskal(gpt1_s, gpt2_s, gpt3_s)[1] * 6,\n",
    "            gpt1_c.mean(),\n",
    "            gpt1_c.median(),\n",
    "            stats.kruskal(gpt1_c, gpt2_c, gpt3_c)[0],\n",
    "            stats.kruskal(gpt1_c, gpt2_c, gpt3_c)[1] * 6,\n",
    "        ],\n",
    "        [\n",
    "            gpt2_s.mean(),\n",
    "            gpt2_s.median(),\n",
    "            stats.kruskal(gpt1_s, gpt2_s, gpt3_s)[0],\n",
    "            stats.kruskal(gpt1_s, gpt2_s, gpt3_s)[1] * 6,\n",
    "            gpt2_c.mean(),\n",
    "            gpt2_c.median(),\n",
    "            stats.kruskal(gpt1_c, gpt2_c, gpt3_c)[0],\n",
    "            stats.kruskal(gpt1_c, gpt2_c, gpt3_c)[1] * 6,\n",
    "        ],\n",
    "        [\n",
    "            gpt3_s.mean(),\n",
    "            gpt3_s.median(),\n",
    "            stats.kruskal(gpt1_s, gpt2_s, gpt3_s)[0],\n",
    "            stats.kruskal(gpt1_s, gpt2_s, gpt3_s)[1] * 6,\n",
    "            gpt3_c.mean(),\n",
    "            gpt3_c.median(),\n",
    "            stats.kruskal(gpt1_c, gpt2_c, gpt3_c)[0],\n",
    "            stats.kruskal(gpt1_c, gpt2_c, gpt3_c)[1] * 6,\n",
    "        ],\n",
    "        [\n",
    "            llama1_s.mean(),\n",
    "            llama1_s.median(),\n",
    "            stats.kruskal(llama1_s, llama2_s, llama3_s)[0],\n",
    "            stats.kruskal(llama1_s, llama2_s, llama3_s)[1] * 6,\n",
    "            llama1_c.mean(),\n",
    "            llama1_c.median(),\n",
    "            stats.kruskal(llama1_c, llama2_c, llama3_c)[0],\n",
    "            stats.kruskal(llama1_c, llama2_c, llama3_c)[1] * 6,\n",
    "        ],\n",
    "        [\n",
    "            llama2_s.mean(),\n",
    "            llama2_s.median(),\n",
    "            stats.kruskal(llama1_s, llama2_s, llama3_s)[0],\n",
    "            stats.kruskal(llama1_s, llama2_s, llama3_s)[1] * 6,\n",
    "            llama2_c.mean(),\n",
    "            llama2_c.median(),\n",
    "            stats.kruskal(llama1_c, llama2_c, llama3_c)[0],\n",
    "            stats.kruskal(llama1_c, llama2_c, llama3_c)[1] * 6,\n",
    "        ],\n",
    "        [\n",
    "            llama3_s.mean(),\n",
    "            llama3_s.median(),\n",
    "            stats.kruskal(llama1_s, llama2_s, llama3_s)[0],\n",
    "            stats.kruskal(llama1_s, llama2_s, llama3_s)[1] * 6,\n",
    "            llama3_c.mean(),\n",
    "            llama3_c.median(),\n",
    "            stats.kruskal(llama1_c, llama2_c, llama3_c)[0],\n",
    "            stats.kruskal(llama1_c, llama2_c, llama3_c)[1] * 6,\n",
    "        ],\n",
    "        [\n",
    "            tiny1_s.mean(),\n",
    "            tiny1_s.median(),\n",
    "            stats.kruskal(tiny1_s, tiny2_s, tiny3_s)[0],\n",
    "            stats.kruskal(tiny1_s, tiny2_s, tiny3_s)[1] * 6,\n",
    "            tiny1_c.mean(),\n",
    "            tiny1_c.median(),\n",
    "            stats.kruskal(tiny1_c, tiny2_c, tiny3_c)[0],\n",
    "            stats.kruskal(tiny1_c, tiny2_c, tiny3_c)[1] * 6,\n",
    "        ],\n",
    "        [\n",
    "            tiny2_s.mean(),\n",
    "            tiny2_s.median(),\n",
    "            stats.kruskal(tiny1_s, tiny2_s, tiny3_s)[0],\n",
    "            stats.kruskal(tiny1_s, tiny2_s, tiny3_s)[1] * 6,\n",
    "            tiny2_c.mean(),\n",
    "            tiny2_c.median(),\n",
    "            stats.kruskal(tiny1_c, tiny2_c, tiny3_c)[0],\n",
    "            stats.kruskal(tiny1_c, tiny2_c, tiny3_c)[1] * 6,\n",
    "        ],\n",
    "        [\n",
    "            tiny3_s.mean(),\n",
    "            tiny3_s.median(),\n",
    "            stats.kruskal(tiny1_s, tiny2_s, tiny3_s)[0],\n",
    "            stats.kruskal(tiny1_s, tiny2_s, tiny3_s)[1] * 6,\n",
    "            tiny3_c.mean(),\n",
    "            tiny3_c.median(),\n",
    "            stats.kruskal(tiny1_c, tiny2_c, tiny3_c)[0],\n",
    "            stats.kruskal(tiny1_c, tiny2_c, tiny3_c)[1] * 6,\n",
    "        ],\n",
    "    ],\n",
    ").round(2).to_latex(\"tables/rq3.tex\", float_format=\"%.2f\")"
   ]
  },
  {
   "cell_type": "markdown",
   "metadata": {},
   "source": [
    "### Cosine Similarity"
   ]
  },
  {
   "cell_type": "code",
   "execution_count": 237,
   "metadata": {},
   "outputs": [],
   "source": [
    "from sklearn.feature_extraction.text import TfidfVectorizer\n",
    "from sklearn.metrics.pairwise import cosine_similarity\n",
    "import os"
   ]
  },
  {
   "cell_type": "markdown",
   "metadata": {},
   "source": [
    "#### GPT"
   ]
  },
  {
   "cell_type": "code",
   "execution_count": 238,
   "metadata": {},
   "outputs": [],
   "source": [
    "vectorizer = TfidfVectorizer()\n",
    "sim_gpt = []\n",
    "for file1 in os.listdir(\"explanation_human/gpt/run_1/\"):\n",
    "  files = []\n",
    "  files.append(open(\"explanation_human/gpt/run_1/\"+file1).read())\n",
    "  for file2 in os.listdir(\"explanation_human/gpt/run_2/\"):\n",
    "    if file1 == file2:\n",
    "      files.append(open(\"explanation_human/gpt/run_2/\"+file2).read())\n",
    "  for file3 in os.listdir(\"explanation_human/gpt/run_3/\"):\n",
    "    if file1 == file3:\n",
    "      files.append(open(\"explanation_human/gpt/run_3/\"+file3).read())\n",
    "  X = vectorizer.fit_transform(files)\n",
    "  sim_gpt.append(cosine_similarity(X)[0][1])"
   ]
  },
  {
   "cell_type": "markdown",
   "metadata": {},
   "source": [
    "#### LLAMA"
   ]
  },
  {
   "cell_type": "code",
   "execution_count": 239,
   "metadata": {},
   "outputs": [],
   "source": [
    "vectorizer = TfidfVectorizer()\n",
    "sim_llama = []\n",
    "for file1 in os.listdir(\"explanation_human/llama2_0\"):\n",
    "    files = []\n",
    "    files.append(open(\"explanation_human/llama2_0/\" + file1).read())\n",
    "    for file2 in os.listdir(\"explanation_human/llama2_1\"):\n",
    "        if file1 == file2:\n",
    "            files.append(open(\"explanation_human/llama2_1/\" + file2).read())\n",
    "    for file3 in os.listdir(\"explanation_human/llama2_2\"):\n",
    "        if file1 == file3:\n",
    "            files.append(open(\"explanation_human/llama2_2/\" + file3).read())\n",
    "    X = vectorizer.fit_transform(files)\n",
    "    sim_llama.append(cosine_similarity(X)[0][1])"
   ]
  },
  {
   "cell_type": "code",
   "execution_count": 53,
   "metadata": {},
   "outputs": [
    {
     "data": {
      "text/plain": [
       "[0.9082854177843478,\n",
       " 0.8542959192925571,\n",
       " 0.8660242045584768,\n",
       " 0.8464582716767276,\n",
       " 0.9071542305260238,\n",
       " 0.6045711551494499,\n",
       " 0.6781321427599508,\n",
       " 0.6957313035359134,\n",
       " 0.6413406674196303,\n",
       " 0.6952162112363642,\n",
       " 0.7883602019455405,\n",
       " 0.7398879275634221,\n",
       " 0.6667531077496248,\n",
       " 0.7410895881488092]"
      ]
     },
     "execution_count": 53,
     "metadata": {},
     "output_type": "execute_result"
    }
   ],
   "source": [
    "sim_llama"
   ]
  },
  {
   "cell_type": "markdown",
   "metadata": {},
   "source": [
    "#### TinyLLAMA"
   ]
  },
  {
   "cell_type": "code",
   "execution_count": 240,
   "metadata": {},
   "outputs": [],
   "source": [
    "vectorizer = TfidfVectorizer()\n",
    "sim_tiny = []\n",
    "for file1 in os.listdir(\"explanation_human/tinyllama_0\"):\n",
    "    files = []\n",
    "    files.append(open(\"explanation_human/tinyllama_0/\" + file1).read())\n",
    "    for file2 in os.listdir(\"explanation_human/tinyllama_1\"):\n",
    "        if file1 == file2:\n",
    "            files.append(open(\"explanation_human/tinyllama_1/\" + file2).read())\n",
    "    for file3 in os.listdir(\"explanation_human/tinyllama_2\"):\n",
    "        if file1 == file3:\n",
    "            files.append(open(\"explanation_human/tinyllama_2/\" + file3).read())\n",
    "    X = vectorizer.fit_transform(files)\n",
    "    sim_tiny.append(cosine_similarity(X)[0][1])"
   ]
  },
  {
   "cell_type": "code",
   "execution_count": 55,
   "metadata": {},
   "outputs": [
    {
     "data": {
      "text/plain": [
       "[0.6281278978835984,\n",
       " 0.0180232043692323,\n",
       " 0.3726271467255641,\n",
       " 0.45433307029306663,\n",
       " 0.6573060435696458,\n",
       " 0.5700293270361927,\n",
       " 0.47602964469140263,\n",
       " 0.5252530969944293,\n",
       " 0.12328570142612356,\n",
       " 0.6065933588386829,\n",
       " 0.5801436575906137,\n",
       " 0.6312423811449759,\n",
       " 0.46591537699991353,\n",
       " 0.5021038175713441]"
      ]
     },
     "execution_count": 55,
     "metadata": {},
     "output_type": "execute_result"
    }
   ],
   "source": [
    "sim_tiny"
   ]
  },
  {
   "cell_type": "code",
   "execution_count": 256,
   "metadata": {},
   "outputs": [],
   "source": [
    "similarity = pd.DataFrame({\n",
    "  \"gpt_simple\": sim_gpt[::2],\n",
    "  \"gpt_complex\": sim_gpt[1::2],\n",
    "  \"llama_simple\": sim_llama[::2],\n",
    "  \"llama_complex\": sim_llama[1::2],\n",
    "  \"tinyllama_simple\": sim_tiny[::2],\n",
    "  \"tinyllama_complex\": sim_tiny[1::2]\n",
    "})"
   ]
  },
  {
   "cell_type": "code",
   "execution_count": 246,
   "metadata": {},
   "outputs": [
    {
     "name": "stdout",
     "output_type": "stream",
     "text": [
      "<class 'pandas.core.frame.DataFrame'>\n",
      "RangeIndex: 7 entries, 0 to 6\n",
      "Data columns (total 6 columns):\n",
      " #   Column             Non-Null Count  Dtype  \n",
      "---  ------             --------------  -----  \n",
      " 0   gpt_simple         7 non-null      float64\n",
      " 1   llama_simple       7 non-null      float64\n",
      " 2   tinyllama_simple   7 non-null      float64\n",
      " 3   gpt_complex        7 non-null      float64\n",
      " 4   llama_complex      7 non-null      float64\n",
      " 5   tinyllama_complex  7 non-null      float64\n",
      "dtypes: float64(6)\n",
      "memory usage: 464.0 bytes\n"
     ]
    }
   ],
   "source": [
    "similarity.info()"
   ]
  },
  {
   "cell_type": "code",
   "execution_count": 271,
   "metadata": {},
   "outputs": [
    {
     "data": {
      "image/png": "[encoded data removed]",
      "text/plain": [
       "<Figure size 500x400 with 1 Axes>"
      ]
     },
     "metadata": {},
     "output_type": "display_data"
    }
   ],
   "source": [
    "fig, ax = plt.subplots(figsize=(5, 4))\n",
    "sns.boxplot(data=similarity, ax=ax)\n",
    "ax.set_xticklabels([\"Gpt Not Aware\", \"Gpt Aware\", \"Llama2 Not Aware\", \"Llama2 Aware\", \"Tinyllama Not Aware\", \"Tinyllama Aware\"])\n",
    "ax.xaxis.set_tick_params(rotation=45)\n",
    "plt.ylabel(\"Cosine Similarity\")\n",
    "plt.tight_layout()\n",
    "plt.savefig(\"figures/rq3_cos.pdf\")\n",
    "plt.show()"
   ]
  },
  {
   "cell_type": "code",
   "execution_count": 255,
   "metadata": {},
   "outputs": [
    {
     "data": {
      "text/html": [
       "<div>\n",
       "<style scoped>\n",
       "    .dataframe tbody tr th:only-of-type {\n",
       "        vertical-align: middle;\n",
       "    }\n",
       "\n",
       "    .dataframe tbody tr th {\n",
       "        vertical-align: top;\n",
       "    }\n",
       "\n",
       "    .dataframe thead th {\n",
       "        text-align: right;\n",
       "    }\n",
       "</style>\n",
       "<table border=\"1\" class=\"dataframe\">\n",
       "  <thead>\n",
       "    <tr style=\"text-align: right;\">\n",
       "      <th></th>\n",
       "      <th>gpt_simple</th>\n",
       "      <th>llama_simple</th>\n",
       "      <th>tinyllama_simple</th>\n",
       "      <th>gpt_complex</th>\n",
       "      <th>llama_complex</th>\n",
       "      <th>tinyllama_complex</th>\n",
       "    </tr>\n",
       "  </thead>\n",
       "  <tbody>\n",
       "    <tr>\n",
       "      <th>0</th>\n",
       "      <td>0.819126</td>\n",
       "      <td>0.908285</td>\n",
       "      <td>0.628128</td>\n",
       "      <td>0.543638</td>\n",
       "      <td>0.854296</td>\n",
       "      <td>0.018023</td>\n",
       "    </tr>\n",
       "    <tr>\n",
       "      <th>1</th>\n",
       "      <td>0.915121</td>\n",
       "      <td>0.866024</td>\n",
       "      <td>0.372627</td>\n",
       "      <td>0.747262</td>\n",
       "      <td>0.846458</td>\n",
       "      <td>0.454333</td>\n",
       "    </tr>\n",
       "    <tr>\n",
       "      <th>2</th>\n",
       "      <td>0.835710</td>\n",
       "      <td>0.907154</td>\n",
       "      <td>0.657306</td>\n",
       "      <td>0.856871</td>\n",
       "      <td>0.604571</td>\n",
       "      <td>0.570029</td>\n",
       "    </tr>\n",
       "    <tr>\n",
       "      <th>3</th>\n",
       "      <td>0.712283</td>\n",
       "      <td>0.678132</td>\n",
       "      <td>0.476030</td>\n",
       "      <td>0.703896</td>\n",
       "      <td>0.695731</td>\n",
       "      <td>0.525253</td>\n",
       "    </tr>\n",
       "    <tr>\n",
       "      <th>4</th>\n",
       "      <td>0.687548</td>\n",
       "      <td>0.641341</td>\n",
       "      <td>0.123286</td>\n",
       "      <td>0.795881</td>\n",
       "      <td>0.695216</td>\n",
       "      <td>0.606593</td>\n",
       "    </tr>\n",
       "    <tr>\n",
       "      <th>5</th>\n",
       "      <td>0.672776</td>\n",
       "      <td>0.788360</td>\n",
       "      <td>0.580144</td>\n",
       "      <td>0.598366</td>\n",
       "      <td>0.739888</td>\n",
       "      <td>0.631242</td>\n",
       "    </tr>\n",
       "    <tr>\n",
       "      <th>6</th>\n",
       "      <td>0.879300</td>\n",
       "      <td>0.666753</td>\n",
       "      <td>0.465915</td>\n",
       "      <td>0.570395</td>\n",
       "      <td>0.741090</td>\n",
       "      <td>0.502104</td>\n",
       "    </tr>\n",
       "  </tbody>\n",
       "</table>\n",
       "</div>"
      ],
      "text/plain": [
       "   gpt_simple  llama_simple  tinyllama_simple  gpt_complex  llama_complex  \\\n",
       "0    0.819126      0.908285          0.628128     0.543638       0.854296   \n",
       "1    0.915121      0.866024          0.372627     0.747262       0.846458   \n",
       "2    0.835710      0.907154          0.657306     0.856871       0.604571   \n",
       "3    0.712283      0.678132          0.476030     0.703896       0.695731   \n",
       "4    0.687548      0.641341          0.123286     0.795881       0.695216   \n",
       "5    0.672776      0.788360          0.580144     0.598366       0.739888   \n",
       "6    0.879300      0.666753          0.465915     0.570395       0.741090   \n",
       "\n",
       "   tinyllama_complex  \n",
       "0           0.018023  \n",
       "1           0.454333  \n",
       "2           0.570029  \n",
       "3           0.525253  \n",
       "4           0.606593  \n",
       "5           0.631242  \n",
       "6           0.502104  "
      ]
     },
     "execution_count": 255,
     "metadata": {},
     "output_type": "execute_result"
    }
   ],
   "source": [
    "similarity"
   ]
  },
  {
   "cell_type": "code",
   "execution_count": 248,
   "metadata": {},
   "outputs": [],
   "source": [
    "similarity.round(2).to_latex(\"tables/similarity.tex\", float_format=\"%.2f\")"
   ]
  },
  {
   "cell_type": "markdown",
   "metadata": {},
   "source": [
    "## RQ 4"
   ]
  },
  {
   "cell_type": "code",
   "execution_count": 62,
   "metadata": {},
   "outputs": [],
   "source": [
    "res2_t.groupby(\"Model\")[\"Score\"].aggregate([\"mean\", \"median\"]).to_latex(\"tables/rq4.tex\", float_format=\"%.2f\")"
   ]
  },
  {
   "cell_type": "code",
   "execution_count": 6,
   "metadata": {},
   "outputs": [
    {
     "data": {
      "text/html": [
       "<div>\n",
       "<style scoped>\n",
       "    .dataframe tbody tr th:only-of-type {\n",
       "        vertical-align: middle;\n",
       "    }\n",
       "\n",
       "    .dataframe tbody tr th {\n",
       "        vertical-align: top;\n",
       "    }\n",
       "\n",
       "    .dataframe thead th {\n",
       "        text-align: right;\n",
       "    }\n",
       "</style>\n",
       "<table border=\"1\" class=\"dataframe\">\n",
       "  <thead>\n",
       "    <tr style=\"text-align: right;\">\n",
       "      <th></th>\n",
       "      <th>mean</th>\n",
       "      <th>median</th>\n",
       "    </tr>\n",
       "    <tr>\n",
       "      <th>Model</th>\n",
       "      <th></th>\n",
       "      <th></th>\n",
       "    </tr>\n",
       "  </thead>\n",
       "  <tbody>\n",
       "    <tr>\n",
       "      <th>gpt</th>\n",
       "      <td>3.535714</td>\n",
       "      <td>4.50</td>\n",
       "    </tr>\n",
       "    <tr>\n",
       "      <th>llama</th>\n",
       "      <td>2.392857</td>\n",
       "      <td>2.25</td>\n",
       "    </tr>\n",
       "    <tr>\n",
       "      <th>tiny</th>\n",
       "      <td>1.892857</td>\n",
       "      <td>1.50</td>\n",
       "    </tr>\n",
       "  </tbody>\n",
       "</table>\n",
       "</div>"
      ],
      "text/plain": [
       "           mean  median\n",
       "Model                  \n",
       "gpt    3.535714    4.50\n",
       "llama  2.392857    2.25\n",
       "tiny   1.892857    1.50"
      ]
     },
     "execution_count": 6,
     "metadata": {},
     "output_type": "execute_result"
    }
   ],
   "source": [
    "res2_t.groupby(\"Model\")[\"Score\"].aggregate([\"mean\", \"median\"])"
   ]
  },
  {
   "cell_type": "code",
   "execution_count": 15,
   "metadata": {},
   "outputs": [
    {
     "data": {
      "text/plain": [
       "4     2.50\n",
       "5     1.50\n",
       "10    2.00\n",
       "12    4.25\n",
       "16    2.25\n",
       "17    2.00\n",
       "21    2.25\n",
       "Name: Score, dtype: float64"
      ]
     },
     "execution_count": 15,
     "metadata": {},
     "output_type": "execute_result"
    }
   ],
   "source": [
    "llama[\"Score\"]"
   ]
  },
  {
   "cell_type": "code",
   "execution_count": 14,
   "metadata": {},
   "outputs": [
    {
     "data": {
      "text/plain": [
       "3     2.00\n",
       "6     1.50\n",
       "9     1.00\n",
       "13    1.75\n",
       "14    4.50\n",
       "18    1.50\n",
       "22    1.00\n",
       "Name: Score, dtype: float64"
      ]
     },
     "execution_count": 14,
     "metadata": {},
     "output_type": "execute_result"
    }
   ],
   "source": [
    "tiny['Score']"
   ]
  },
  {
   "cell_type": "code",
   "execution_count": 7,
   "metadata": {},
   "outputs": [],
   "source": [
    "gpt = res2_t[res2_t[\"Model\"] == \"gpt\"]\n",
    "llama = res2_t[res2_t[\"Model\"] == \"llama\"]\n",
    "tiny = res2_t[res2_t[\"Model\"] == \"tiny\"]"
   ]
  },
  {
   "cell_type": "code",
   "execution_count": 59,
   "metadata": {},
   "outputs": [
    {
     "data": {
      "text/plain": [
       "TtestResult(statistic=1.3020615340338553, pvalue=0.24064391263643042, df=6)"
      ]
     },
     "execution_count": 59,
     "metadata": {},
     "output_type": "execute_result"
    }
   ],
   "source": [
    "stats.ttest_rel(gpt[\"Score\"], llama[\"Score\"])"
   ]
  },
  {
   "cell_type": "code",
   "execution_count": 60,
   "metadata": {},
   "outputs": [
    {
     "data": {
      "text/plain": [
       "TtestResult(statistic=1.6287225515786579, pvalue=0.15449494115283693, df=6)"
      ]
     },
     "execution_count": 60,
     "metadata": {},
     "output_type": "execute_result"
    }
   ],
   "source": [
    "stats.ttest_rel(gpt[\"Score\"], tiny[\"Score\"])"
   ]
  },
  {
   "cell_type": "code",
   "execution_count": 61,
   "metadata": {},
   "outputs": [
    {
     "data": {
      "text/plain": [
       "TtestResult(statistic=0.9119666486866893, pvalue=0.39694729425931224, df=6)"
      ]
     },
     "execution_count": 61,
     "metadata": {},
     "output_type": "execute_result"
    }
   ],
   "source": [
    "stats.ttest_rel(llama[\"Score\"], tiny[\"Score\"])"
   ]
  },
  {
   "cell_type": "code",
   "execution_count": 32,
   "metadata": {},
   "outputs": [],
   "source": [
    "count = res2_t.drop(columns=\"Score\").melt(\n",
    "    id_vars=[\"Model\"],\n",
    "    value_vars=[\"Score1\", \"Score2\", \"Score3\", \"Score4\"],\n",
    "    var_name=\"Score_type\",\n",
    "    value_name=\"Score\",\n",
    ") "
   ]
  },
  {
   "cell_type": "code",
   "execution_count": 34,
   "metadata": {},
   "outputs": [],
   "source": [
    "count['Score'] = count['Score'].astype(str)"
   ]
  },
  {
   "cell_type": "code",
   "execution_count": 36,
   "metadata": {},
   "outputs": [
    {
     "name": "stderr",
     "output_type": "stream",
     "text": [
      "/Users/giord/miniconda3/envs/xquantum/lib/python3.10/site-packages/seaborn/_oldcore.py:1119: FutureWarning: use_inf_as_na option is deprecated and will be removed in a future version. Convert inf values to NaN before operating instead.\n",
      "  with pd.option_context('mode.use_inf_as_na', True):\n",
      "/Users/giord/miniconda3/envs/xquantum/lib/python3.10/site-packages/seaborn/_oldcore.py:1075: FutureWarning: When grouping with a length-1 list-like, you will need to pass a length-1 tuple to get_group in a future version of pandas. Pass `(name,)` instead of `name` to silence this warning.\n",
      "  data_subset = grouped_data.get_group(pd_key)\n",
      "/Users/giord/miniconda3/envs/xquantum/lib/python3.10/site-packages/seaborn/_oldcore.py:1075: FutureWarning: When grouping with a length-1 list-like, you will need to pass a length-1 tuple to get_group in a future version of pandas. Pass `(name,)` instead of `name` to silence this warning.\n",
      "  data_subset = grouped_data.get_group(pd_key)\n",
      "/Users/giord/miniconda3/envs/xquantum/lib/python3.10/site-packages/seaborn/_oldcore.py:1075: FutureWarning: When grouping with a length-1 list-like, you will need to pass a length-1 tuple to get_group in a future version of pandas. Pass `(name,)` instead of `name` to silence this warning.\n",
      "  data_subset = grouped_data.get_group(pd_key)\n",
      "/Users/giord/miniconda3/envs/xquantum/lib/python3.10/site-packages/seaborn/_oldcore.py:1075: FutureWarning: When grouping with a length-1 list-like, you will need to pass a length-1 tuple to get_group in a future version of pandas. Pass `(name,)` instead of `name` to silence this warning.\n",
      "  data_subset = grouped_data.get_group(pd_key)\n",
      "/Users/giord/miniconda3/envs/xquantum/lib/python3.10/site-packages/seaborn/_oldcore.py:1075: FutureWarning: When grouping with a length-1 list-like, you will need to pass a length-1 tuple to get_group in a future version of pandas. Pass `(name,)` instead of `name` to silence this warning.\n",
      "  data_subset = grouped_data.get_group(pd_key)\n",
      "/Users/giord/miniconda3/envs/xquantum/lib/python3.10/site-packages/seaborn/_oldcore.py:1075: FutureWarning: When grouping with a length-1 list-like, you will need to pass a length-1 tuple to get_group in a future version of pandas. Pass `(name,)` instead of `name` to silence this warning.\n",
      "  data_subset = grouped_data.get_group(pd_key)\n",
      "/Users/giord/miniconda3/envs/xquantum/lib/python3.10/site-packages/seaborn/_oldcore.py:1075: FutureWarning: When grouping with a length-1 list-like, you will need to pass a length-1 tuple to get_group in a future version of pandas. Pass `(name,)` instead of `name` to silence this warning.\n",
      "  data_subset = grouped_data.get_group(pd_key)\n",
      "/var/folders/4c/mgvn0dc97_9gst9l7jbv9n640000gn/T/ipykernel_2851/2247708355.py:12: UserWarning: set_ticklabels() should only be used with a fixed number of ticks, i.e. after set_ticks() or using a FixedLocator.\n",
      "  ax.yaxis.set_ticklabels([\"Gpt3.5\", \"Llama2\", \"Tinyllama\"])\n"
     ]
    },
    {
     "data": {
      "image/png": "[encoded data removed]",
      "text/plain": [
       "<Figure size 500x200 with 1 Axes>"
      ]
     },
     "metadata": {},
     "output_type": "display_data"
    }
   ],
   "source": [
    "fig, ax = plt.subplots(figsize=(5, 2))\n",
    "ax = sns.histplot(\n",
    "    data=count,\n",
    "    y=\"Model\",\n",
    "    hue=\"Score\",\n",
    "    multiple=\"stack\",\n",
    "    palette=\"coolwarm\",\n",
    "    hue_order=[\"5.0\", \"4.0\", \"3.0\", \"2.0\", \"1.0\"],\n",
    "    alpha=1,\n",
    ")\n",
    "ax.set(xlabel=\"Number of scores\", ylabel=\"\")\n",
    "ax.yaxis.set_ticklabels([\"Gpt3.5\", \"Llama2\", \"Tinyllama\"])\n",
    "sns.move_legend(ax, \"upper left\", bbox_to_anchor=(1, 1))\n",
    "# plt.savefig(\"figures/rq1_dist.pdf\", bbox_inches=\"tight\")\n",
    "plt.show()"
   ]
  },
  {
   "cell_type": "markdown",
   "metadata": {},
   "source": [
    "## Correlation analysis"
   ]
  },
  {
   "cell_type": "code",
   "execution_count": 35,
   "metadata": {},
   "outputs": [],
   "source": [
    "corr_data = res\n",
    "corr_data.columns = corr_data.iloc[0]\n",
    "corr_data.drop([0, 1, 2], inplace=True)\n",
    "corr_data = corr_data.melt(id_vars=[\"SE_Expertise\", \"Quantum_Expertise\"])"
   ]
  },
  {
   "cell_type": "code",
   "execution_count": 44,
   "metadata": {},
   "outputs": [],
   "source": [
    "quantum_map = {\n",
    "  'Under a year': 0,\n",
    "  '1-2 years': 1,\n",
    "  '3-4 years': 2,\n",
    "}\n",
    "corr_data['Quantum_Expertise_ord'] = corr_data['Quantum_Expertise'].map(quantum_map)"
   ]
  },
  {
   "cell_type": "code",
   "execution_count": 51,
   "metadata": {},
   "outputs": [],
   "source": [
    "corr_data['value'] = corr_data['value'].astype(float)"
   ]
  },
  {
   "cell_type": "code",
   "execution_count": 45,
   "metadata": {},
   "outputs": [
    {
     "data": {
      "text/html": [
       "<div>\n",
       "<style scoped>\n",
       "    .dataframe tbody tr th:only-of-type {\n",
       "        vertical-align: middle;\n",
       "    }\n",
       "\n",
       "    .dataframe tbody tr th {\n",
       "        vertical-align: top;\n",
       "    }\n",
       "\n",
       "    .dataframe thead th {\n",
       "        text-align: right;\n",
       "    }\n",
       "</style>\n",
       "<table border=\"1\" class=\"dataframe\">\n",
       "  <thead>\n",
       "    <tr style=\"text-align: right;\">\n",
       "      <th></th>\n",
       "      <th>SE_Expertise</th>\n",
       "      <th>Quantum_Expertise</th>\n",
       "      <th>0</th>\n",
       "      <th>value</th>\n",
       "      <th>SE_Expertise_ord</th>\n",
       "      <th>Quantum_Expertise_ord</th>\n",
       "    </tr>\n",
       "  </thead>\n",
       "  <tbody>\n",
       "    <tr>\n",
       "      <th>0</th>\n",
       "      <td>5-10 years</td>\n",
       "      <td>3-4 years</td>\n",
       "      <td>Run1</td>\n",
       "      <td>2</td>\n",
       "      <td>1</td>\n",
       "      <td>2</td>\n",
       "    </tr>\n",
       "    <tr>\n",
       "      <th>1</th>\n",
       "      <td>3-4 years</td>\n",
       "      <td>1-2 years</td>\n",
       "      <td>Run1</td>\n",
       "      <td>3</td>\n",
       "      <td>0</td>\n",
       "      <td>1</td>\n",
       "    </tr>\n",
       "    <tr>\n",
       "      <th>2</th>\n",
       "      <td>3-4 years</td>\n",
       "      <td>1-2 years</td>\n",
       "      <td>Run1</td>\n",
       "      <td>2</td>\n",
       "      <td>0</td>\n",
       "      <td>1</td>\n",
       "    </tr>\n",
       "    <tr>\n",
       "      <th>3</th>\n",
       "      <td>5-10 years</td>\n",
       "      <td>Under a year</td>\n",
       "      <td>Run1</td>\n",
       "      <td>3</td>\n",
       "      <td>1</td>\n",
       "      <td>0</td>\n",
       "    </tr>\n",
       "    <tr>\n",
       "      <th>4</th>\n",
       "      <td>5-10 years</td>\n",
       "      <td>3-4 years</td>\n",
       "      <td>Run1</td>\n",
       "      <td>4</td>\n",
       "      <td>1</td>\n",
       "      <td>2</td>\n",
       "    </tr>\n",
       "    <tr>\n",
       "      <th>...</th>\n",
       "      <td>...</td>\n",
       "      <td>...</td>\n",
       "      <td>...</td>\n",
       "      <td>...</td>\n",
       "      <td>...</td>\n",
       "      <td>...</td>\n",
       "    </tr>\n",
       "    <tr>\n",
       "      <th>499</th>\n",
       "      <td>5-10 years</td>\n",
       "      <td>Under a year</td>\n",
       "      <td>Run3</td>\n",
       "      <td>2</td>\n",
       "      <td>1</td>\n",
       "      <td>0</td>\n",
       "    </tr>\n",
       "    <tr>\n",
       "      <th>500</th>\n",
       "      <td>5-10 years</td>\n",
       "      <td>3-4 years</td>\n",
       "      <td>Run3</td>\n",
       "      <td>5</td>\n",
       "      <td>1</td>\n",
       "      <td>2</td>\n",
       "    </tr>\n",
       "    <tr>\n",
       "      <th>501</th>\n",
       "      <td>3-4 years</td>\n",
       "      <td>1-2 years</td>\n",
       "      <td>Run3</td>\n",
       "      <td>3</td>\n",
       "      <td>0</td>\n",
       "      <td>1</td>\n",
       "    </tr>\n",
       "    <tr>\n",
       "      <th>502</th>\n",
       "      <td>3-4 years</td>\n",
       "      <td>1-2 years</td>\n",
       "      <td>Run3</td>\n",
       "      <td>4</td>\n",
       "      <td>0</td>\n",
       "      <td>1</td>\n",
       "    </tr>\n",
       "    <tr>\n",
       "      <th>503</th>\n",
       "      <td>5-10 years</td>\n",
       "      <td>Under a year</td>\n",
       "      <td>Run3</td>\n",
       "      <td>3</td>\n",
       "      <td>1</td>\n",
       "      <td>0</td>\n",
       "    </tr>\n",
       "  </tbody>\n",
       "</table>\n",
       "<p>504 rows × 6 columns</p>\n",
       "</div>"
      ],
      "text/plain": [
       "    SE_Expertise Quantum_Expertise     0 value  SE_Expertise_ord  \\\n",
       "0     5-10 years         3-4 years  Run1     2                 1   \n",
       "1      3-4 years         1-2 years  Run1     3                 0   \n",
       "2      3-4 years         1-2 years  Run1     2                 0   \n",
       "3     5-10 years      Under a year  Run1     3                 1   \n",
       "4     5-10 years         3-4 years  Run1     4                 1   \n",
       "..           ...               ...   ...   ...               ...   \n",
       "499   5-10 years      Under a year  Run3     2                 1   \n",
       "500   5-10 years         3-4 years  Run3     5                 1   \n",
       "501    3-4 years         1-2 years  Run3     3                 0   \n",
       "502    3-4 years         1-2 years  Run3     4                 0   \n",
       "503   5-10 years      Under a year  Run3     3                 1   \n",
       "\n",
       "     Quantum_Expertise_ord  \n",
       "0                        2  \n",
       "1                        1  \n",
       "2                        1  \n",
       "3                        0  \n",
       "4                        2  \n",
       "..                     ...  \n",
       "499                      0  \n",
       "500                      2  \n",
       "501                      1  \n",
       "502                      1  \n",
       "503                      0  \n",
       "\n",
       "[504 rows x 6 columns]"
      ]
     },
     "execution_count": 45,
     "metadata": {},
     "output_type": "execute_result"
    }
   ],
   "source": [
    "corr_data"
   ]
  },
  {
   "cell_type": "code",
   "execution_count": 57,
   "metadata": {},
   "outputs": [
    {
     "data": {
      "text/plain": [
       "SE_Expertise\n",
       "3-4 years     2.349206\n",
       "5-10 years    2.416667\n",
       "Name: value, dtype: float64"
      ]
     },
     "execution_count": 57,
     "metadata": {},
     "output_type": "execute_result"
    }
   ],
   "source": [
    "corr_data.groupby(\"SE_Expertise\")[\"value\"].mean()"
   ]
  },
  {
   "cell_type": "code",
   "execution_count": 58,
   "metadata": {},
   "outputs": [
    {
     "data": {
      "text/plain": [
       "Quantum_Expertise\n",
       "1-2 years       2.349206\n",
       "3-4 years       2.428571\n",
       "Under a year    2.404762\n",
       "Name: value, dtype: float64"
      ]
     },
     "execution_count": 58,
     "metadata": {},
     "output_type": "execute_result"
    }
   ],
   "source": [
    "corr_data.groupby(\"Quantum_Expertise\")[\"value\"].mean()"
   ]
  },
  {
   "cell_type": "code",
   "execution_count": 52,
   "metadata": {},
   "outputs": [
    {
     "data": {
      "text/plain": [
       "PearsonRResult(statistic=0.029187441953603545, pvalue=0.5132608063382087)"
      ]
     },
     "execution_count": 52,
     "metadata": {},
     "output_type": "execute_result"
    }
   ],
   "source": [
    "stats.pearsonr(corr_data['SE_Expertise_ord'], corr_data['value'])"
   ]
  },
  {
   "cell_type": "code",
   "execution_count": 53,
   "metadata": {},
   "outputs": [
    {
     "data": {
      "text/plain": [
       "PearsonRResult(statistic=0.007284225222664169, pvalue=0.8704187803220691)"
      ]
     },
     "execution_count": 53,
     "metadata": {},
     "output_type": "execute_result"
    }
   ],
   "source": [
    "stats.pearsonr(corr_data[\"Quantum_Expertise_ord\"], corr_data[\"value\"])"
   ]
  },
  {
   "cell_type": "markdown",
   "metadata": {},
   "source": [
    "## Demographic Information"
   ]
  },
  {
   "cell_type": "code",
   "execution_count": 9,
   "metadata": {},
   "outputs": [],
   "source": [
    "res.columns = res.iloc[0]"
   ]
  },
  {
   "cell_type": "code",
   "execution_count": 12,
   "metadata": {},
   "outputs": [],
   "source": [
    "res.drop([0, 1, 2], inplace=True)"
   ]
  },
  {
   "cell_type": "code",
   "execution_count": 41,
   "metadata": {},
   "outputs": [
    {
     "data": {
      "image/png": "[encoded data removed]",
      "text/plain": [
       "<Figure size 700x300 with 2 Axes>"
      ]
     },
     "metadata": {},
     "output_type": "display_data"
    }
   ],
   "source": [
    "fig, ax = plt.subplots(1,2, figsize=(7, 3))\n",
    "\n",
    "# Primo subplot\n",
    "sns.countplot(data=res, x=\"SE_Expertise\", stat=\"percent\", hue=\"SE_Expertise\", ax=ax[0], order=['3-4 years', '5-10 years'])\n",
    "ax[0].set(ylabel=\"Percentage\", xlabel=\"Software Engineering Expertise\")\n",
    "# ax[0].set_title('Distribution of Software Engineering Expertise')\n",
    "for p in ax[0].patches:\n",
    "    ax[0].annotate(str(p.get_height())+'%', \n",
    "                   (p.get_x() + p.get_width() / 2., p.get_height()-1), \n",
    "                   ha = 'center', va = 'center', \n",
    "                   xytext = (0, 9), \n",
    "                   textcoords = 'offset points')\n",
    "\n",
    "# Secondo subplot\n",
    "sns.countplot(data=res, x=\"Quantum_Expertise\", stat=\"percent\", hue=\"Quantum_Expertise\", ax=ax[1], order=['Under a year', '1-2 years', '3-4 years'])\n",
    "ax[1].set(ylabel=\"\", xlabel=\"Quantum Computing Expertise\")\n",
    "# ax[1].set_title('Distribution of Quantum Computing Expertise')\n",
    "for p in ax[1].patches:\n",
    "    ax[1].annotate(str(p.get_height())+'%', \n",
    "                   (p.get_x() + p.get_width() / 2., p.get_height()-1), \n",
    "                   ha = 'center', va = 'center', \n",
    "                   xytext = (0, 9), \n",
    "                   textcoords = 'offset points')\n",
    "\n",
    "plt.tight_layout()\n",
    "plt.savefig(\"figures/expertise.pdf\")"
   ]
  }
 ],
 "metadata": {
  "kernelspec": {
   "display_name": "Python 3 (ipykernel)",
   "language": "python",
   "name": "python3"
  },
  "language_info": {
   "codemirror_mode": {
    "name": "ipython",
    "version": 3
   },
   "file_extension": ".py",
   "mimetype": "text/x-python",
   "name": "python",
   "nbconvert_exporter": "python",
   "pygments_lexer": "ipython3",
   "version": "3.10.14"
  }
 },
 "nbformat": 4,
 "nbformat_minor": 4
}
